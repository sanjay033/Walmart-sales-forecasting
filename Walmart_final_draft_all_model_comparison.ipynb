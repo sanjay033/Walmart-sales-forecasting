{
  "nbformat": 4,
  "nbformat_minor": 0,
  "metadata": {
    "colab": {
      "name": "Walmart final draft all model comparison",
      "provenance": [],
      "collapsed_sections": [
        "MigBBskUAps1"
      ],
      "machine_shape": "hm",
      "include_colab_link": true
    },
    "kernelspec": {
      "name": "python3",
      "display_name": "Python 3"
    },
    "widgets": {
      "application/vnd.jupyter.widget-state+json": {
        "4c5e73463e1a4da29a3b2de01ad92274": {
          "model_module": "@jupyter-widgets/controls",
          "model_name": "HBoxModel",
          "state": {
            "_view_name": "HBoxView",
            "_dom_classes": [],
            "_model_name": "HBoxModel",
            "_view_module": "@jupyter-widgets/controls",
            "_model_module_version": "1.5.0",
            "_view_count": null,
            "_view_module_version": "1.5.0",
            "box_style": "",
            "layout": "IPY_MODEL_df522199851e415fa937b86f1fe73ad0",
            "_model_module": "@jupyter-widgets/controls",
            "children": [
              "IPY_MODEL_f536fc1e7aae431ab2dc3623fdab2847",
              "IPY_MODEL_4ea3ec5ddb6f4ba887f87bc0a7ea8f3c"
            ]
          }
        },
        "df522199851e415fa937b86f1fe73ad0": {
          "model_module": "@jupyter-widgets/base",
          "model_name": "LayoutModel",
          "state": {
            "_view_name": "LayoutView",
            "grid_template_rows": null,
            "right": null,
            "justify_content": null,
            "_view_module": "@jupyter-widgets/base",
            "overflow": null,
            "_model_module_version": "1.2.0",
            "_view_count": null,
            "flex_flow": null,
            "width": null,
            "min_width": null,
            "border": null,
            "align_items": null,
            "bottom": null,
            "_model_module": "@jupyter-widgets/base",
            "top": null,
            "grid_column": null,
            "overflow_y": null,
            "overflow_x": null,
            "grid_auto_flow": null,
            "grid_area": null,
            "grid_template_columns": null,
            "flex": null,
            "_model_name": "LayoutModel",
            "justify_items": null,
            "grid_row": null,
            "max_height": null,
            "align_content": null,
            "visibility": null,
            "align_self": null,
            "height": null,
            "min_height": null,
            "padding": null,
            "grid_auto_rows": null,
            "grid_gap": null,
            "max_width": null,
            "order": null,
            "_view_module_version": "1.2.0",
            "grid_template_areas": null,
            "object_position": null,
            "object_fit": null,
            "grid_auto_columns": null,
            "margin": null,
            "display": null,
            "left": null
          }
        },
        "f536fc1e7aae431ab2dc3623fdab2847": {
          "model_module": "@jupyter-widgets/controls",
          "model_name": "FloatProgressModel",
          "state": {
            "_view_name": "ProgressView",
            "style": "IPY_MODEL_7a4d356eece14a329cdf2430007fe2ed",
            "_dom_classes": [],
            "description": "100%",
            "_model_name": "FloatProgressModel",
            "bar_style": "success",
            "max": 36,
            "_view_module": "@jupyter-widgets/controls",
            "_model_module_version": "1.5.0",
            "value": 36,
            "_view_count": null,
            "_view_module_version": "1.5.0",
            "orientation": "horizontal",
            "min": 0,
            "description_tooltip": null,
            "_model_module": "@jupyter-widgets/controls",
            "layout": "IPY_MODEL_0b3d39ebf1164bea8eb736ed4ad91fc6"
          }
        },
        "4ea3ec5ddb6f4ba887f87bc0a7ea8f3c": {
          "model_module": "@jupyter-widgets/controls",
          "model_name": "HTMLModel",
          "state": {
            "_view_name": "HTMLView",
            "style": "IPY_MODEL_9f6b16ee7c2a4c19a9601fcd0a8bc88c",
            "_dom_classes": [],
            "description": "",
            "_model_name": "HTMLModel",
            "placeholder": "​",
            "_view_module": "@jupyter-widgets/controls",
            "_model_module_version": "1.5.0",
            "value": " 36/36 [38:49&lt;00:00, 64.71s/it]",
            "_view_count": null,
            "_view_module_version": "1.5.0",
            "description_tooltip": null,
            "_model_module": "@jupyter-widgets/controls",
            "layout": "IPY_MODEL_0e8dd7649b6c4a5d805fb7880f3ede17"
          }
        },
        "7a4d356eece14a329cdf2430007fe2ed": {
          "model_module": "@jupyter-widgets/controls",
          "model_name": "ProgressStyleModel",
          "state": {
            "_view_name": "StyleView",
            "_model_name": "ProgressStyleModel",
            "description_width": "initial",
            "_view_module": "@jupyter-widgets/base",
            "_model_module_version": "1.5.0",
            "_view_count": null,
            "_view_module_version": "1.2.0",
            "bar_color": null,
            "_model_module": "@jupyter-widgets/controls"
          }
        },
        "0b3d39ebf1164bea8eb736ed4ad91fc6": {
          "model_module": "@jupyter-widgets/base",
          "model_name": "LayoutModel",
          "state": {
            "_view_name": "LayoutView",
            "grid_template_rows": null,
            "right": null,
            "justify_content": null,
            "_view_module": "@jupyter-widgets/base",
            "overflow": null,
            "_model_module_version": "1.2.0",
            "_view_count": null,
            "flex_flow": null,
            "width": null,
            "min_width": null,
            "border": null,
            "align_items": null,
            "bottom": null,
            "_model_module": "@jupyter-widgets/base",
            "top": null,
            "grid_column": null,
            "overflow_y": null,
            "overflow_x": null,
            "grid_auto_flow": null,
            "grid_area": null,
            "grid_template_columns": null,
            "flex": null,
            "_model_name": "LayoutModel",
            "justify_items": null,
            "grid_row": null,
            "max_height": null,
            "align_content": null,
            "visibility": null,
            "align_self": null,
            "height": null,
            "min_height": null,
            "padding": null,
            "grid_auto_rows": null,
            "grid_gap": null,
            "max_width": null,
            "order": null,
            "_view_module_version": "1.2.0",
            "grid_template_areas": null,
            "object_position": null,
            "object_fit": null,
            "grid_auto_columns": null,
            "margin": null,
            "display": null,
            "left": null
          }
        },
        "9f6b16ee7c2a4c19a9601fcd0a8bc88c": {
          "model_module": "@jupyter-widgets/controls",
          "model_name": "DescriptionStyleModel",
          "state": {
            "_view_name": "StyleView",
            "_model_name": "DescriptionStyleModel",
            "description_width": "",
            "_view_module": "@jupyter-widgets/base",
            "_model_module_version": "1.5.0",
            "_view_count": null,
            "_view_module_version": "1.2.0",
            "_model_module": "@jupyter-widgets/controls"
          }
        },
        "0e8dd7649b6c4a5d805fb7880f3ede17": {
          "model_module": "@jupyter-widgets/base",
          "model_name": "LayoutModel",
          "state": {
            "_view_name": "LayoutView",
            "grid_template_rows": null,
            "right": null,
            "justify_content": null,
            "_view_module": "@jupyter-widgets/base",
            "overflow": null,
            "_model_module_version": "1.2.0",
            "_view_count": null,
            "flex_flow": null,
            "width": null,
            "min_width": null,
            "border": null,
            "align_items": null,
            "bottom": null,
            "_model_module": "@jupyter-widgets/base",
            "top": null,
            "grid_column": null,
            "overflow_y": null,
            "overflow_x": null,
            "grid_auto_flow": null,
            "grid_area": null,
            "grid_template_columns": null,
            "flex": null,
            "_model_name": "LayoutModel",
            "justify_items": null,
            "grid_row": null,
            "max_height": null,
            "align_content": null,
            "visibility": null,
            "align_self": null,
            "height": null,
            "min_height": null,
            "padding": null,
            "grid_auto_rows": null,
            "grid_gap": null,
            "max_width": null,
            "order": null,
            "_view_module_version": "1.2.0",
            "grid_template_areas": null,
            "object_position": null,
            "object_fit": null,
            "grid_auto_columns": null,
            "margin": null,
            "display": null,
            "left": null
          }
        },
        "241f6e37ee874969847e02a7867d26a9": {
          "model_module": "@jupyter-widgets/controls",
          "model_name": "HBoxModel",
          "state": {
            "_view_name": "HBoxView",
            "_dom_classes": [],
            "_model_name": "HBoxModel",
            "_view_module": "@jupyter-widgets/controls",
            "_model_module_version": "1.5.0",
            "_view_count": null,
            "_view_module_version": "1.5.0",
            "box_style": "",
            "layout": "IPY_MODEL_6c340f36fdbd411196365d3af12bd76c",
            "_model_module": "@jupyter-widgets/controls",
            "children": [
              "IPY_MODEL_60b0e5c876d9470fbcb7bf7f5e4e9c37",
              "IPY_MODEL_74acbc0d8c274ca99853fce2adac2294"
            ]
          }
        },
        "6c340f36fdbd411196365d3af12bd76c": {
          "model_module": "@jupyter-widgets/base",
          "model_name": "LayoutModel",
          "state": {
            "_view_name": "LayoutView",
            "grid_template_rows": null,
            "right": null,
            "justify_content": null,
            "_view_module": "@jupyter-widgets/base",
            "overflow": null,
            "_model_module_version": "1.2.0",
            "_view_count": null,
            "flex_flow": null,
            "width": null,
            "min_width": null,
            "border": null,
            "align_items": null,
            "bottom": null,
            "_model_module": "@jupyter-widgets/base",
            "top": null,
            "grid_column": null,
            "overflow_y": null,
            "overflow_x": null,
            "grid_auto_flow": null,
            "grid_area": null,
            "grid_template_columns": null,
            "flex": null,
            "_model_name": "LayoutModel",
            "justify_items": null,
            "grid_row": null,
            "max_height": null,
            "align_content": null,
            "visibility": null,
            "align_self": null,
            "height": null,
            "min_height": null,
            "padding": null,
            "grid_auto_rows": null,
            "grid_gap": null,
            "max_width": null,
            "order": null,
            "_view_module_version": "1.2.0",
            "grid_template_areas": null,
            "object_position": null,
            "object_fit": null,
            "grid_auto_columns": null,
            "margin": null,
            "display": null,
            "left": null
          }
        },
        "60b0e5c876d9470fbcb7bf7f5e4e9c37": {
          "model_module": "@jupyter-widgets/controls",
          "model_name": "FloatProgressModel",
          "state": {
            "_view_name": "ProgressView",
            "style": "IPY_MODEL_111ba6488b0441ec8e52d7834e73cb0a",
            "_dom_classes": [],
            "description": "100%",
            "_model_name": "FloatProgressModel",
            "bar_style": "success",
            "max": 36,
            "_view_module": "@jupyter-widgets/controls",
            "_model_module_version": "1.5.0",
            "value": 36,
            "_view_count": null,
            "_view_module_version": "1.5.0",
            "orientation": "horizontal",
            "min": 0,
            "description_tooltip": null,
            "_model_module": "@jupyter-widgets/controls",
            "layout": "IPY_MODEL_7c2a5d08436f4ff796cc5261ea1509df"
          }
        },
        "74acbc0d8c274ca99853fce2adac2294": {
          "model_module": "@jupyter-widgets/controls",
          "model_name": "HTMLModel",
          "state": {
            "_view_name": "HTMLView",
            "style": "IPY_MODEL_a7e134760f5c4adca5facede804ab194",
            "_dom_classes": [],
            "description": "",
            "_model_name": "HTMLModel",
            "placeholder": "​",
            "_view_module": "@jupyter-widgets/controls",
            "_model_module_version": "1.5.0",
            "value": " 36/36 [24:34&lt;00:00, 40.96s/it]",
            "_view_count": null,
            "_view_module_version": "1.5.0",
            "description_tooltip": null,
            "_model_module": "@jupyter-widgets/controls",
            "layout": "IPY_MODEL_fe7208dcb72243e98f9d2417673031c3"
          }
        },
        "111ba6488b0441ec8e52d7834e73cb0a": {
          "model_module": "@jupyter-widgets/controls",
          "model_name": "ProgressStyleModel",
          "state": {
            "_view_name": "StyleView",
            "_model_name": "ProgressStyleModel",
            "description_width": "initial",
            "_view_module": "@jupyter-widgets/base",
            "_model_module_version": "1.5.0",
            "_view_count": null,
            "_view_module_version": "1.2.0",
            "bar_color": null,
            "_model_module": "@jupyter-widgets/controls"
          }
        },
        "7c2a5d08436f4ff796cc5261ea1509df": {
          "model_module": "@jupyter-widgets/base",
          "model_name": "LayoutModel",
          "state": {
            "_view_name": "LayoutView",
            "grid_template_rows": null,
            "right": null,
            "justify_content": null,
            "_view_module": "@jupyter-widgets/base",
            "overflow": null,
            "_model_module_version": "1.2.0",
            "_view_count": null,
            "flex_flow": null,
            "width": null,
            "min_width": null,
            "border": null,
            "align_items": null,
            "bottom": null,
            "_model_module": "@jupyter-widgets/base",
            "top": null,
            "grid_column": null,
            "overflow_y": null,
            "overflow_x": null,
            "grid_auto_flow": null,
            "grid_area": null,
            "grid_template_columns": null,
            "flex": null,
            "_model_name": "LayoutModel",
            "justify_items": null,
            "grid_row": null,
            "max_height": null,
            "align_content": null,
            "visibility": null,
            "align_self": null,
            "height": null,
            "min_height": null,
            "padding": null,
            "grid_auto_rows": null,
            "grid_gap": null,
            "max_width": null,
            "order": null,
            "_view_module_version": "1.2.0",
            "grid_template_areas": null,
            "object_position": null,
            "object_fit": null,
            "grid_auto_columns": null,
            "margin": null,
            "display": null,
            "left": null
          }
        },
        "a7e134760f5c4adca5facede804ab194": {
          "model_module": "@jupyter-widgets/controls",
          "model_name": "DescriptionStyleModel",
          "state": {
            "_view_name": "StyleView",
            "_model_name": "DescriptionStyleModel",
            "description_width": "",
            "_view_module": "@jupyter-widgets/base",
            "_model_module_version": "1.5.0",
            "_view_count": null,
            "_view_module_version": "1.2.0",
            "_model_module": "@jupyter-widgets/controls"
          }
        },
        "fe7208dcb72243e98f9d2417673031c3": {
          "model_module": "@jupyter-widgets/base",
          "model_name": "LayoutModel",
          "state": {
            "_view_name": "LayoutView",
            "grid_template_rows": null,
            "right": null,
            "justify_content": null,
            "_view_module": "@jupyter-widgets/base",
            "overflow": null,
            "_model_module_version": "1.2.0",
            "_view_count": null,
            "flex_flow": null,
            "width": null,
            "min_width": null,
            "border": null,
            "align_items": null,
            "bottom": null,
            "_model_module": "@jupyter-widgets/base",
            "top": null,
            "grid_column": null,
            "overflow_y": null,
            "overflow_x": null,
            "grid_auto_flow": null,
            "grid_area": null,
            "grid_template_columns": null,
            "flex": null,
            "_model_name": "LayoutModel",
            "justify_items": null,
            "grid_row": null,
            "max_height": null,
            "align_content": null,
            "visibility": null,
            "align_self": null,
            "height": null,
            "min_height": null,
            "padding": null,
            "grid_auto_rows": null,
            "grid_gap": null,
            "max_width": null,
            "order": null,
            "_view_module_version": "1.2.0",
            "grid_template_areas": null,
            "object_position": null,
            "object_fit": null,
            "grid_auto_columns": null,
            "margin": null,
            "display": null,
            "left": null
          }
        }
      }
    },
    "accelerator": "GPU"
  },
  "cells": [
    {
      "cell_type": "markdown",
      "metadata": {
        "id": "view-in-github",
        "colab_type": "text"
      },
      "source": [
        "<a href=\"https://colab.research.google.com/github/sanjay033/Walmart-sales-forecasting/blob/master/Walmart_final_draft_all_model_comparison.ipynb\" target=\"_parent\"><img src=\"https://colab.research.google.com/assets/colab-badge.svg\" alt=\"Open In Colab\"/></a>"
      ]
    },
    {
      "cell_type": "markdown",
      "metadata": {
        "id": "bFc5tIZE8mP9",
        "colab_type": "text"
      },
      "source": [
        "# Google Authorization"
      ]
    },
    {
      "cell_type": "code",
      "metadata": {
        "id": "E088wqGNA3gl",
        "colab_type": "code",
        "colab": {
          "base_uri": "https://localhost:8080/",
          "height": 122
        },
        "outputId": "a58edca5-a5a8-4a59-e772-98535204c626"
      },
      "source": [
        "from google.colab import files\n",
        "from google.colab import drive as drive_colab\n",
        "from google.colab import auth\n",
        "\n",
        "from pydrive.auth import GoogleAuth\n",
        "from pydrive.drive import GoogleDrive\n",
        "\n",
        "from oauth2client.client import GoogleCredentials\n",
        "\n",
        "from google.colab import drive\n",
        "drive.mount('/content/gdrive')\n",
        "\n",
        "root_path = 'gdrive/My Drive/Colab Notebooks/'\n",
        "\n",
        "# Authenticate user\n",
        "## You must go to the link and copy access code\n",
        "auth.authenticate_user()\n",
        "gauth = GoogleAuth()\n",
        "gauth.credentials = GoogleCredentials.get_application_default()\n",
        "drive = GoogleDrive(gauth)\n",
        "\n",
        "# Load all the required files\n",
        "file_id = '1q34L52TjwlT7HvkKe8fc6mvLtGAzNcmZ'\n",
        "downloaded = drive.CreateFile({'id': file_id})\n",
        "downloaded.GetContentFile('calendar.csv')\n",
        "\n",
        "file_id = '1F3VqpEVWoHg_8pD5FZdYmXDkxCrb09e-'\n",
        "downloaded = drive.CreateFile({'id': file_id})\n",
        "downloaded.GetContentFile('sell_prices.csv')\n",
        "\n",
        "file_id = '1QI9087hfvu3ugdAhc0nskiPW8g3VhdqG'\n",
        "downloaded = drive.CreateFile({'id': file_id})\n",
        "downloaded.GetContentFile('sales_train_validation.csv')\n",
        "\n",
        "file_id = '1A1XwNSvEtDCw4hz4FudlaqdTIbsKfGI8'\n",
        "downloaded = drive.CreateFile({'id': file_id})\n",
        "downloaded.GetContentFile('sales_train_evaluation.csv')\n",
        "\n",
        "file_id = '1gfeQbNefEImnJLxhPl9BqHovfbdX0aG6'\n",
        "downloaded = drive.CreateFile({'id': file_id})\n",
        "downloaded.GetContentFile('sample_submission.csv')"
      ],
      "execution_count": null,
      "outputs": [
        {
          "output_type": "stream",
          "text": [
            "Go to this URL in a browser: https://accounts.google.com/o/oauth2/auth?client_id=947318989803-6bn6qk8qdgf4n4g3pfee6491hc0brc4i.apps.googleusercontent.com&redirect_uri=urn%3aietf%3awg%3aoauth%3a2.0%3aoob&response_type=code&scope=email%20https%3a%2f%2fwww.googleapis.com%2fauth%2fdocs.test%20https%3a%2f%2fwww.googleapis.com%2fauth%2fdrive%20https%3a%2f%2fwww.googleapis.com%2fauth%2fdrive.photos.readonly%20https%3a%2f%2fwww.googleapis.com%2fauth%2fpeopleapi.readonly\n",
            "\n",
            "Enter your authorization code:\n",
            "··········\n",
            "Mounted at /content/gdrive\n"
          ],
          "name": "stdout"
        }
      ]
    },
    {
      "cell_type": "markdown",
      "metadata": {
        "id": "gnFdMxat8aVn",
        "colab_type": "text"
      },
      "source": [
        "# Required Libraries"
      ]
    },
    {
      "cell_type": "markdown",
      "metadata": {
        "id": "pm_Dyuq48ejf",
        "colab_type": "text"
      },
      "source": [
        "## Loading GPU"
      ]
    },
    {
      "cell_type": "code",
      "metadata": {
        "id": "WUqnYiqrBAh_",
        "colab_type": "code",
        "colab": {
          "base_uri": "https://localhost:8080/",
          "height": 238
        },
        "outputId": "578f655d-8010-4d7a-8695-206033851ed3"
      },
      "source": [
        "!ln -sf /opt/bin/nvidia-smi /usr/bin/nvidia-smi\n",
        "!pip install gputil\n",
        "!pip install psutil\n",
        "!pip install humanize\n",
        "\n",
        "\n",
        "import psutil\n",
        "import humanize\n",
        "import os\n",
        "import GPUtil as GPU\n",
        "GPUs = GPU.getGPUs()\n",
        "# XXX: only one GPU on Colab and isn’t guaranteed\n",
        "gpu = GPUs[0]\n",
        "def printm():\n",
        "  process = psutil.Process(os.getpid())\n",
        "  print(\"Gen RAM Free: \" + humanize.naturalsize( psutil.virtual_memory().available ), \" | Proc size: \" + humanize.naturalsize( process.memory_info().rss))\n",
        "  print(\"GPU RAM Free: {0:.0f}MB | Used: {1:.0f}MB | Util {2:3.0f}% | Total {3:.0f}MB\".format(gpu.memoryFree, gpu.memoryUsed, gpu.memoryUtil*100, gpu.memoryTotal))\n",
        "\n",
        "printm()"
      ],
      "execution_count": null,
      "outputs": [
        {
          "output_type": "stream",
          "text": [
            "Collecting gputil\n",
            "  Downloading https://files.pythonhosted.org/packages/ed/0e/5c61eedde9f6c87713e89d794f01e378cfd9565847d4576fa627d758c554/GPUtil-1.4.0.tar.gz\n",
            "Building wheels for collected packages: gputil\n",
            "  Building wheel for gputil (setup.py) ... \u001b[?25l\u001b[?25hdone\n",
            "  Created wheel for gputil: filename=GPUtil-1.4.0-cp36-none-any.whl size=7413 sha256=1c14d7d93471b65ac01e98f948812935309ff589e125a6bf2b3966c7f27a030f\n",
            "  Stored in directory: /root/.cache/pip/wheels/3d/77/07/80562de4bb0786e5ea186911a2c831fdd0018bda69beab71fd\n",
            "Successfully built gputil\n",
            "Installing collected packages: gputil\n",
            "Successfully installed gputil-1.4.0\n",
            "Requirement already satisfied: psutil in /usr/local/lib/python3.6/dist-packages (5.4.8)\n",
            "Requirement already satisfied: humanize in /usr/local/lib/python3.6/dist-packages (0.5.1)\n",
            "Gen RAM Free: 26.3 GB  | Proc size: 637.7 MB\n",
            "GPU RAM Free: 16280MB | Used: 0MB | Util   0% | Total 16280MB\n"
          ],
          "name": "stdout"
        }
      ]
    },
    {
      "cell_type": "code",
      "metadata": {
        "id": "mc4tFNMyBHBx",
        "colab_type": "code",
        "colab": {
          "base_uri": "https://localhost:8080/",
          "height": 34
        },
        "outputId": "2b6bc558-5461-43db-98a0-9cac0f288050"
      },
      "source": [
        "import torch\n",
        "torch.cuda.is_available()"
      ],
      "execution_count": null,
      "outputs": [
        {
          "output_type": "execute_result",
          "data": {
            "text/plain": [
              "True"
            ]
          },
          "metadata": {
            "tags": []
          },
          "execution_count": 3
        }
      ]
    },
    {
      "cell_type": "code",
      "metadata": {
        "id": "NCGefVTqBHoF",
        "colab_type": "code",
        "colab": {
          "base_uri": "https://localhost:8080/",
          "height": 323
        },
        "outputId": "14606778-e30a-48b5-9577-7247fdd5338b"
      },
      "source": [
        "torch.backends.cudnn.enabled\n",
        "!nvidia-smi\n",
        "!python --version"
      ],
      "execution_count": null,
      "outputs": [
        {
          "output_type": "stream",
          "text": [
            "Wed Jul 22 14:06:02 2020       \n",
            "+-----------------------------------------------------------------------------+\n",
            "| NVIDIA-SMI 418.67       Driver Version: 418.67       CUDA Version: 10.1     |\n",
            "|-------------------------------+----------------------+----------------------+\n",
            "| GPU  Name        Persistence-M| Bus-Id        Disp.A | Volatile Uncorr. ECC |\n",
            "| Fan  Temp  Perf  Pwr:Usage/Cap|         Memory-Usage | GPU-Util  Compute M. |\n",
            "|===============================+======================+======================|\n",
            "|   0  Tesla P100-PCIE...  Off  | 00000000:00:04.0 Off |                    0 |\n",
            "| N/A   50C    P0    32W / 250W |     10MiB / 16280MiB |      0%      Default |\n",
            "+-------------------------------+----------------------+----------------------+\n",
            "                                                                               \n",
            "+-----------------------------------------------------------------------------+\n",
            "| Processes:                                                       GPU Memory |\n",
            "|  GPU       PID   Type   Process name                             Usage      |\n",
            "|=============================================================================|\n",
            "|  No running processes found                                                 |\n",
            "+-----------------------------------------------------------------------------+\n",
            "Python 3.6.9\n"
          ],
          "name": "stdout"
        }
      ]
    },
    {
      "cell_type": "markdown",
      "metadata": {
        "id": "1JJLGZLw8hf3",
        "colab_type": "text"
      },
      "source": [
        "## Loading relevant libraries"
      ]
    },
    {
      "cell_type": "code",
      "metadata": {
        "id": "EtytfR4DBKf8",
        "colab_type": "code",
        "colab": {
          "base_uri": "https://localhost:8080/",
          "height": 51
        },
        "outputId": "ba060962-a59d-4625-a341-14a95202d8b5"
      },
      "source": [
        "# Importing libraries that will be used in this project\n",
        "import pandas as pd\n",
        "import numpy as np\n",
        "\n",
        "from itertools import product\n",
        "from multiprocessing import Pool\n",
        "from scipy.stats import kurtosis, skew\n",
        "from scipy.optimize import minimize\n",
        "import scipy.stats as scs\n",
        "import statsmodels.formula.api as smf\n",
        "import statsmodels.tsa.api as smt\n",
        "import statsmodels.api as sm\n",
        "\n",
        "# Stats\n",
        "from scipy import stats\n",
        "from scipy.stats import skew, norm\n",
        "from scipy.stats import randint as sp_randint\n",
        "from scipy.stats import uniform as sp_uniform\n",
        "\n",
        "import seaborn as sns\n",
        "import matplotlib.pyplot as plt\n",
        "%matplotlib inline\n",
        "\n",
        "import pickle\n",
        "import datetime\n",
        "from dateutil.relativedelta import relativedelta\n",
        "import time\n",
        "import gc\n",
        "import os\n",
        "from tqdm import tqdm_notebook\n",
        "\n",
        "# Ignore warnings\n",
        "import warnings\n",
        "warnings.filterwarnings (action = \"ignore\")\n",
        "\n",
        "# Set some options in Jupyter to display datasets\n",
        "pd.set_option ('display.max_columns', 200)\n",
        "pd.set_option ('display.max_rows', 200)\n",
        "\n",
        "\n",
        "# Importing sklearn libraries\n",
        "from sklearn import preprocessing, metrics\n",
        "from sklearn.preprocessing import MinMaxScaler, OneHotEncoder, LabelEncoder, StandardScaler, OrdinalEncoder\n",
        "\n",
        "from sklearn.metrics import r2_score, median_absolute_error, mean_absolute_error\n",
        "from sklearn.metrics import median_absolute_error, mean_squared_error, mean_squared_log_error\n",
        "\n",
        "from sklearn.model_selection import KFold, train_test_split, GridSearchCV, cross_val_score, TimeSeriesSplit\n",
        "from sklearn.linear_model import LinearRegression\n",
        "\n",
        "# lib of machine learning templates\n",
        "import xgboost as xgb\n",
        "import lightgbm as lgb"
      ],
      "execution_count": null,
      "outputs": [
        {
          "output_type": "stream",
          "text": [
            "/usr/local/lib/python3.6/dist-packages/statsmodels/tools/_testing.py:19: FutureWarning: pandas.util.testing is deprecated. Use the functions in the public API at pandas.testing instead.\n",
            "  import pandas.util.testing as tm\n"
          ],
          "name": "stderr"
        }
      ]
    },
    {
      "cell_type": "markdown",
      "metadata": {
        "id": "1pu3xN7R_GYN",
        "colab_type": "text"
      },
      "source": [
        "# Reducing Memory"
      ]
    },
    {
      "cell_type": "code",
      "metadata": {
        "id": "LOpy_kb4BckY",
        "colab_type": "code",
        "colab": {}
      },
      "source": [
        "# Function for reducing the used memory\n",
        "def reduce_mem_usage (df, verbose = True):\n",
        "    numerics = ['int16', 'int32', 'int64', 'float16', 'float32', 'float64']\n",
        "    start_mem = df.memory_usage (). sum () / 1024 ** 2\n",
        "    for col in df.columns:\n",
        "        col_type = df [col] .dtypes\n",
        "        if col_type in numerics:\n",
        "            c_min = df [col] .min ()\n",
        "            c_max = df [col] .max ()\n",
        "            if str (col_type) [: 3] == 'int':\n",
        "                if c_min> np.iinfo (np.int8) .min and c_max <np.iinfo (np.int8) .max:\n",
        "                    df [col] = df [col] .astype (np.int8)\n",
        "                elif c_min> np.iinfo (np.int16) .min and c_max <np.iinfo (np.int16) .max:\n",
        "                    df [col] = df [col] .astype (np.int16)\n",
        "                elif c_min> np.iinfo (np.int32) .min and c_max <np.iinfo (np.int32) .max:\n",
        "                    df [col] = df [col] .astype (np.int32)\n",
        "                elif c_min> np.iinfo (np.int64) .min and c_max <np.iinfo (np.int64) .max:\n",
        "                    df [col] = df [col] .astype (np.int64)\n",
        "            else:\n",
        "                if c_min> np.finfo (np.float16) .min and c_max <np.finfo (np.float16) .max:\n",
        "                    df [col] = df [col] .astype (np.float16)\n",
        "                elif c_min> np.finfo (np.float32) .min and c_max <np.finfo (np.float32) .max:\n",
        "                    df [col] = df [col] .astype (np.float32)\n",
        "                else:\n",
        "                    df [col] = df [col] .astype (np.float64)\n",
        "    end_mem = df.memory_usage (). sum () / 1024 ** 2\n",
        "    if verbose: print ('Mem. usage decreased to {: 5.2f} Mb ({: .1f}% reduction)'. format (end_mem, 100 * (start_mem - end_mem) / start_mem))\n",
        "    return df"
      ],
      "execution_count": null,
      "outputs": []
    },
    {
      "cell_type": "markdown",
      "metadata": {
        "id": "r3uKSnAAAmUI",
        "colab_type": "text"
      },
      "source": [
        "# Load Data"
      ]
    },
    {
      "cell_type": "code",
      "metadata": {
        "id": "cEo_cUvjBfSv",
        "colab_type": "code",
        "colab": {
          "base_uri": "https://localhost:8080/",
          "height": 136
        },
        "outputId": "6828f4a9-d8b8-4a2e-89a0-7a673a9729b6"
      },
      "source": [
        "calendar_df  = pd.read_csv('calendar.csv')\n",
        "calendar = reduce_mem_usage (calendar_df)\n",
        "print((\"calendar dataset has {} columns and {} rows\").format(calendar.shape[0],calendar.shape[1]))\n",
        "\n",
        "\n",
        "sell_prices_df = pd.read_csv('sell_prices.csv')\n",
        "sell_prices = reduce_mem_usage (sell_prices_df)\n",
        "print('Sell prices has {} rows and {} columns'.format(sell_prices.shape[0], sell_prices.shape[1]))\n",
        "\n",
        "sales_train_validation_df = pd.read_csv('sales_train_validation.csv')\n",
        "sales_train_validation = reduce_mem_usage (sales_train_validation_df)\n",
        "print('Sales train validation has {} rows and {} columns'.format(sales_train_validation.shape[0], sales_train_validation.shape[1]))\n",
        "\n",
        "submission = pd.read_csv('sample_submission.csv')\n",
        "submission = reduce_mem_usage (submission)"
      ],
      "execution_count": null,
      "outputs": [
        {
          "output_type": "stream",
          "text": [
            "Mem. usage decreased to  0.12 Mb ( 41.9% reduction)\n",
            "calendar dataset has 1969 columns and 14 rows\n",
            "Mem. usage decreased to  130.48 Mb ( 37.5% reduction)\n",
            "Sell prices has 6841121 rows and 4 columns\n",
            "Mem. usage decreased to  95.00 Mb ( 78.7% reduction)\n",
            "Sales train validation has 30490 rows and 1919 columns\n",
            "Mem. usage decreased to  2.09 Mb ( 84.5% reduction)\n"
          ],
          "name": "stdout"
        }
      ]
    },
    {
      "cell_type": "markdown",
      "metadata": {
        "id": "MigBBskUAps1",
        "colab_type": "text"
      },
      "source": [
        "# Exploratory Data Analysis"
      ]
    },
    {
      "cell_type": "code",
      "metadata": {
        "id": "s1TvroXYBs2i",
        "colab_type": "code",
        "colab": {
          "base_uri": "https://localhost:8080/",
          "height": 255
        },
        "outputId": "b5464f93-37e6-45cf-eed5-ef062e3ced01"
      },
      "source": [
        "d_cols = [c for c in sales_train_validation.columns if 'd_' in c] # sales data columns\n",
        "\n",
        "aggregate_sales = sales_train_validation[d_cols].sum(axis=0).reset_index()\n",
        "\n",
        "aggregate_sales.columns = ['d','sales']\n",
        "\n",
        "all_data_merged = aggregate_sales.merge(calendar, how='left', validate='1:1')\n",
        "\n",
        "y = all_data_merged.set_index('date')['sales']\n",
        "\n",
        "y.plot(figsize=(20, 5),title='Aggregate sales of all products by day')\n",
        "\n",
        "plt.legend('')\n",
        "\n",
        "plt.show()"
      ],
      "execution_count": null,
      "outputs": [
        {
          "output_type": "display_data",
          "data": {
            "image/png": "[encoded data removed]",
            "text/plain": [
              "<Figure size 1440x360 with 1 Axes>"
            ]
          },
          "metadata": {
            "tags": [],
            "needs_background": "light"
          }
        }
      ]
    },
    {
      "cell_type": "code",
      "metadata": {
        "id": "KCBGjTTQBvsR",
        "colab_type": "code",
        "colab": {}
      },
      "source": [
        "past_sales = sales_train_validation.set_index('id')[d_cols] \\\n",
        "    .T \\\n",
        "    .merge(calendar.set_index('d')['date'],\n",
        "           left_index=True,\n",
        "           right_index=True,\n",
        "            validate='1:1') \\\n",
        "    .set_index('date')\n"
      ],
      "execution_count": null,
      "outputs": []
    },
    {
      "cell_type": "code",
      "metadata": {
        "id": "QlHjm9sroFZE",
        "colab_type": "code",
        "colab": {
          "base_uri": "https://localhost:8080/",
          "height": 255
        },
        "outputId": "151a1914-1d50-40a2-a755-581f4dc45ee7"
      },
      "source": [
        "state_list = sales_train_validation['state_id'].unique()\n",
        "\n",
        "for s in state_list:\n",
        "    state_items = [c for c in past_sales.columns if s in c]\n",
        "\n",
        "    past_sales[state_items].sum(axis=1).rolling(90).mean().plot(figsize=(20, 5),\n",
        "              alpha=0.8, title='Rolling 90 Day Average Total Sales (3 states)')\n",
        "\n",
        "plt.legend(state_list)\n",
        "\n",
        "plt.show()"
      ],
      "execution_count": null,
      "outputs": [
        {
          "output_type": "display_data",
          "data": {
            "image/png": "[encoded data removed]",
            "text/plain": [
              "<Figure size 1440x360 with 1 Axes>"
            ]
          },
          "metadata": {
            "tags": [],
            "needs_background": "light"
          }
        }
      ]
    },
    {
      "cell_type": "code",
      "metadata": {
        "id": "Vp3UlliCBwNe",
        "colab_type": "code",
        "colab": {
          "base_uri": "https://localhost:8080/",
          "height": 255
        },
        "outputId": "a21ba476-553d-4354-b12a-87a561ef51d0"
      },
      "source": [
        "dept_list = sales_train_validation['dept_id'].unique()\n",
        "\n",
        "for s in dept_list:\n",
        "    department_items = [c for c in past_sales.columns if s in c]\n",
        "\n",
        "    past_sales[department_items].sum(axis=1).rolling(90).mean().plot(figsize=(20, 5),\n",
        "              alpha=0.8, title='Rolling 90 Day Average Total Sales (7 product departments)')\n",
        "\n",
        "plt.legend(dept_list)\n",
        "\n",
        "plt.show()"
      ],
      "execution_count": null,
      "outputs": [
        {
          "output_type": "display_data",
          "data": {
            "image/png": "[encoded data removed]",
            "text/plain": [
              "<Figure size 1440x360 with 1 Axes>"
            ]
          },
          "metadata": {
            "tags": [],
            "needs_background": "light"
          }
        }
      ]
    },
    {
      "cell_type": "markdown",
      "metadata": {
        "id": "_PLCJ4EhAuC-",
        "colab_type": "text"
      },
      "source": [
        "# Merging Data"
      ]
    },
    {
      "cell_type": "code",
      "metadata": {
        "id": "RGG1wLku_FHm",
        "colab_type": "code",
        "colab": {}
      },
      "source": [
        "# Function to merge datasets returning only one dataframe\n",
        "def reshape_and_merge (calendar, sell_prices, sales_train_validation, submission, nrows=55000000, merge = False):\n",
        "    \n",
        "    # reshaping sales data using melt\n",
        "    sales_train_validation = pd.melt (sales_train_validation, id_vars = ['id', 'item_id', 'dept_id', 'cat_id', 'store_id', 'state_id'], var_name = 'day', value_name = 'demand')\n",
        "    print ('Melted sales train validation has {} rows and {} columns'.format (sales_train_validation.shape [0], sales_train_validation.shape [1]))\n",
        "    sales_trian_validation = reduce_mem_usage (sales_train_validation)\n",
        "    \n",
        "    # preparing test and validation records\n",
        "    test_rows = [row for row in submission ['id'] if 'validation' in row]\n",
        "    val_rows = [row for row in submission ['id'] if 'evaluation' in row]\n",
        "    \n",
        "    test = submission [submission ['id']. isin (test_rows)]\n",
        "    val = submission [submission ['id']. isin (val_rows)]\n",
        "    \n",
        "    # renaming the columns\n",
        "    test.columns = ['id', 'd_1914', 'd_1915', 'd_1916', 'd_1917', 'd_1918', 'd_1919', 'd_1920', 'd_1921',\n",
        "                    'd_1922', 'd_1923', 'd_1924', 'd_1925', 'd_1926', 'd_1927', 'd_1928', 'd_1929', 'd_1930',\n",
        "                    'd_1931', 'd_1932', 'd_1933', 'd_1934', 'd_1935', 'd_1936', 'd_1937', 'd_1938', 'd_1939',\n",
        "                    'd_1940', 'd_1941']\n",
        "    val.columns = ['id', 'd_1942', 'd_1943', 'd_1944', 'd_1945', 'd_1946', 'd_1947', 'd_1948', 'd_1949',\n",
        "                   'd_1950', 'd_1951', 'd_1952', 'd_1953', 'd_1954', 'd_1955', 'd_1956', 'd_1957', 'd_1958',\n",
        "                   'd_1959', 'd_1960', 'd_1961', 'd_1962', 'd_1963', 'd_1964', 'd_1965', 'd_1966', 'd_1967',\n",
        "                   'd_1968', 'd_1969']\n",
        "    \n",
        "    # getting only product data and removing duplicate records\n",
        "    product = sales_train_validation [['id', 'item_id', 'dept_id', 'cat_id', 'store_id', 'state_id']]. drop_duplicates ()\n",
        "    \n",
        "    # merge with the product table\n",
        "    test = test.merge (product, how = 'left', on = 'id')\n",
        "    val = val.merge (product, how = 'left', on = 'id')\n",
        "    \n",
        "    # reshaping test and validation data\n",
        "    test = pd.melt (test, id_vars = ['id', 'item_id', 'dept_id', 'cat_id', 'store_id', 'state_id'], var_name = 'day', value_name = 'demand')\n",
        "    val = pd.melt (val, id_vars = ['id', 'item_id', 'dept_id', 'cat_id', 'store_id', 'state_id'], var_name = 'day', value_name = 'demand')\n",
        "    \n",
        "    # creating a new column to define training, test and validation data\n",
        "    sales_train_validation ['part'] = 'train'\n",
        "    test ['part'] = 'test'\n",
        "    val ['part'] = 'val'\n",
        "    \n",
        "    # creating a single dataset with the addition of all training, validation and test records\n",
        "    data = pd.concat ([sales_train_validation, test, val], axis = 0)\n",
        "    \n",
        "    # removing previous datasets\n",
        "    del sales_train_validation, test, val\n",
        "    \n",
        "    # selecting only a few records for training\n",
        "    data = data.loc [nrows:]\n",
        "    \n",
        "    # removing validation data\n",
        "    data = data [data ['part']!= 'val']\n",
        "    \n",
        "    # performing the merge with calendar and price\n",
        "    if merge:\n",
        "        data = pd.merge (data, calendar, how = 'left', left_on = ['day'], right_on = ['d'])\n",
        "        data.drop (['d', 'day', 'weekday'], inplace = True, axis = 1)\n",
        "        data = data.merge (sell_prices, on = ['store_id', 'item_id', 'wm_yr_wk'], how = 'left')\n",
        "        print ('Final dataset for training has {} rows and {} columns'.format (data.shape [0], data.shape [1]))\n",
        "    else:\n",
        "        pass\n",
        "    \n",
        "    return data\n",
        "\n",
        "\n",
        "\n",
        "def transform(data):\n",
        "    \n",
        "    # realizando tratamento em valores missing nas features categoricas\n",
        "    nan_features_cat = ['event_name_1', 'event_type_1', 'event_name_2', 'event_type_2']\n",
        "    for feature in nan_features_cat:\n",
        "        data[feature].fillna('unknown', inplace = True)\n",
        "    \n",
        "    # realizando tratamento em valores missing na feature sell_price\n",
        "    data['sell_price'].fillna(0, inplace = True)\n",
        "        \n",
        "    # transformando features categorias em numericas para realizar as previsoes\n",
        "    encoder = preprocessing.LabelEncoder()\n",
        "    data['id_encode'] = encoder.fit_transform(data['id'])\n",
        "    \n",
        "    cat = ['item_id', 'dept_id', 'cat_id', 'store_id', 'state_id', \n",
        "           'event_name_1', 'event_type_1', 'event_name_2', 'event_type_2']\n",
        "    for feature in cat:\n",
        "        encoder = preprocessing.LabelEncoder()\n",
        "        data[feature] = encoder.fit_transform(data[feature])\n",
        "    \n",
        "    return data"
      ],
      "execution_count": null,
      "outputs": []
    },
    {
      "cell_type": "code",
      "metadata": {
        "id": "pGumTvT1CGtw",
        "colab_type": "code",
        "colab": {
          "base_uri": "https://localhost:8080/",
          "height": 102
        },
        "outputId": "c613a70f-ab85-40ab-cf83-38b33e9e35ce"
      },
      "source": [
        "%%time\n",
        "\n",
        "\n",
        "# Reshaping and merging datasets\n",
        "data = reshape_and_merge (calendar, sell_prices, sales_train_validation, submission,nrows=45000000, merge = True)\n",
        "\n",
        "# Calling up the data transformation functions\n",
        "data = transform (data)\n",
        "\n",
        "# Viewing the final dataset header\n",
        "data.head ()\n",
        "\n",
        "# Clearing data from memory\n",
        "gc.collect ()"
      ],
      "execution_count": null,
      "outputs": [
        {
          "output_type": "stream",
          "text": [
            "Melted sales train validation has 58327370 rows and 8 columns\n",
            "Mem. usage decreased to  3226.27 Mb ( 0.0% reduction)\n",
            "Final dataset for training has 14181090 rows and 21 columns\n",
            "CPU times: user 2min 5s, sys: 7.78 s, total: 2min 13s\n",
            "Wall time: 2min 13s\n"
          ],
          "name": "stdout"
        }
      ]
    },
    {
      "cell_type": "markdown",
      "metadata": {
        "id": "9GbP36shp3U-",
        "colab_type": "text"
      },
      "source": [
        "# Time Series in Python"
      ]
    },
    {
      "cell_type": "code",
      "metadata": {
        "id": "GTVaUM8E88F6",
        "colab_type": "code",
        "colab": {}
      },
      "source": [
        "df_1 = data [(data ['date'] <= '2016-04-24') & (data ['id'] == 'FOODS_3_634_WI_2_validation') & (data ['demand']> 0) & (data [ 'demand'] <= 15)]\n",
        "df_1 = df_1 [['date', 'demand', 'dept_id', 'cat_id', 'store_id', 'state_id', 'event_name_1', 'event_type_1', 'snap_WI', 'sell_price']]\n",
        "df_1 = df_1.set_index ('date')\n",
        "\n",
        "df_2 = data [(data ['date'] <= '2016-04-24') & (data ['id'] == 'FOODS_3_634_CA_2_validation') & (data ['demand']> 0) & (data [ 'demand'] <= 15)]\n",
        "df_2 = df_2 [['date', 'demand', 'dept_id', 'cat_id', 'store_id', 'state_id', 'event_name_1', 'event_type_1', 'snap_WI', 'sell_price']]\n",
        "df_2 = df_2.set_index ('date')\n",
        "\n",
        "df_3 = data [(data ['date'] <= '2016-04-24') & (data ['id'] == 'FOODS_3_634_TX_2_validation') & (data ['demand']> 0) & (data [ 'demand'] <= 15)]\n",
        "df_3 = df_3 [['date', 'demand', 'dept_id', 'cat_id', 'store_id', 'state_id', 'event_name_1', 'event_type_1', 'snap_WI', 'sell_price']]\n",
        "df_3 = df_3.set_index ('date')\n"
      ],
      "execution_count": null,
      "outputs": []
    },
    {
      "cell_type": "code",
      "metadata": {
        "id": "f9Qm9gdu9sou",
        "colab_type": "code",
        "colab": {
          "base_uri": "https://localhost:8080/",
          "height": 235
        },
        "outputId": "be698709-5bd0-4b73-a574-ab27eec7d3e7"
      },
      "source": [
        "df_1.head()"
      ],
      "execution_count": null,
      "outputs": [
        {
          "output_type": "execute_result",
          "data": {
            "text/html": [
              "<div>\n",
              "<style scoped>\n",
              "    .dataframe tbody tr th:only-of-type {\n",
              "        vertical-align: middle;\n",
              "    }\n",
              "\n",
              "    .dataframe tbody tr th {\n",
              "        vertical-align: top;\n",
              "    }\n",
              "\n",
              "    .dataframe thead th {\n",
              "        text-align: right;\n",
              "    }\n",
              "</style>\n",
              "<table border=\"1\" class=\"dataframe\">\n",
              "  <thead>\n",
              "    <tr style=\"text-align: right;\">\n",
              "      <th></th>\n",
              "      <th>demand</th>\n",
              "      <th>dept_id</th>\n",
              "      <th>cat_id</th>\n",
              "      <th>store_id</th>\n",
              "      <th>state_id</th>\n",
              "      <th>event_name_1</th>\n",
              "      <th>event_type_1</th>\n",
              "      <th>snap_WI</th>\n",
              "      <th>sell_price</th>\n",
              "    </tr>\n",
              "    <tr>\n",
              "      <th>date</th>\n",
              "      <th></th>\n",
              "      <th></th>\n",
              "      <th></th>\n",
              "      <th></th>\n",
              "      <th></th>\n",
              "      <th></th>\n",
              "      <th></th>\n",
              "      <th></th>\n",
              "      <th></th>\n",
              "    </tr>\n",
              "  </thead>\n",
              "  <tbody>\n",
              "    <tr>\n",
              "      <th>2015-02-12</th>\n",
              "      <td>7</td>\n",
              "      <td>2</td>\n",
              "      <td>0</td>\n",
              "      <td>8</td>\n",
              "      <td>2</td>\n",
              "      <td>30</td>\n",
              "      <td>4</td>\n",
              "      <td>1</td>\n",
              "      <td>3.980469</td>\n",
              "    </tr>\n",
              "    <tr>\n",
              "      <th>2015-02-13</th>\n",
              "      <td>3</td>\n",
              "      <td>2</td>\n",
              "      <td>0</td>\n",
              "      <td>8</td>\n",
              "      <td>2</td>\n",
              "      <td>30</td>\n",
              "      <td>4</td>\n",
              "      <td>0</td>\n",
              "      <td>3.980469</td>\n",
              "    </tr>\n",
              "    <tr>\n",
              "      <th>2015-02-14</th>\n",
              "      <td>6</td>\n",
              "      <td>2</td>\n",
              "      <td>0</td>\n",
              "      <td>8</td>\n",
              "      <td>2</td>\n",
              "      <td>28</td>\n",
              "      <td>0</td>\n",
              "      <td>1</td>\n",
              "      <td>3.980469</td>\n",
              "    </tr>\n",
              "    <tr>\n",
              "      <th>2015-02-15</th>\n",
              "      <td>6</td>\n",
              "      <td>2</td>\n",
              "      <td>0</td>\n",
              "      <td>8</td>\n",
              "      <td>2</td>\n",
              "      <td>30</td>\n",
              "      <td>4</td>\n",
              "      <td>1</td>\n",
              "      <td>3.980469</td>\n",
              "    </tr>\n",
              "    <tr>\n",
              "      <th>2015-02-16</th>\n",
              "      <td>7</td>\n",
              "      <td>2</td>\n",
              "      <td>0</td>\n",
              "      <td>8</td>\n",
              "      <td>2</td>\n",
              "      <td>22</td>\n",
              "      <td>1</td>\n",
              "      <td>0</td>\n",
              "      <td>3.980469</td>\n",
              "    </tr>\n",
              "  </tbody>\n",
              "</table>\n",
              "</div>"
            ],
            "text/plain": [
              "            demand  dept_id  cat_id  store_id  state_id  event_name_1  \\\n",
              "date                                                                    \n",
              "2015-02-12       7        2       0         8         2            30   \n",
              "2015-02-13       3        2       0         8         2            30   \n",
              "2015-02-14       6        2       0         8         2            28   \n",
              "2015-02-15       6        2       0         8         2            30   \n",
              "2015-02-16       7        2       0         8         2            22   \n",
              "\n",
              "            event_type_1  snap_WI  sell_price  \n",
              "date                                           \n",
              "2015-02-12             4        1    3.980469  \n",
              "2015-02-13             4        0    3.980469  \n",
              "2015-02-14             0        1    3.980469  \n",
              "2015-02-15             4        1    3.980469  \n",
              "2015-02-16             1        0    3.980469  "
            ]
          },
          "metadata": {
            "tags": []
          },
          "execution_count": 21
        }
      ]
    },
    {
      "cell_type": "code",
      "metadata": {
        "id": "J_91hOUh9uQB",
        "colab_type": "code",
        "colab": {
          "base_uri": "https://localhost:8080/",
          "height": 235
        },
        "outputId": "9808ae0b-18a5-4dc1-9c2e-eabf93c792fa"
      },
      "source": [
        "df_2.head()"
      ],
      "execution_count": null,
      "outputs": [
        {
          "output_type": "execute_result",
          "data": {
            "text/html": [
              "<div>\n",
              "<style scoped>\n",
              "    .dataframe tbody tr th:only-of-type {\n",
              "        vertical-align: middle;\n",
              "    }\n",
              "\n",
              "    .dataframe tbody tr th {\n",
              "        vertical-align: top;\n",
              "    }\n",
              "\n",
              "    .dataframe thead th {\n",
              "        text-align: right;\n",
              "    }\n",
              "</style>\n",
              "<table border=\"1\" class=\"dataframe\">\n",
              "  <thead>\n",
              "    <tr style=\"text-align: right;\">\n",
              "      <th></th>\n",
              "      <th>demand</th>\n",
              "      <th>dept_id</th>\n",
              "      <th>cat_id</th>\n",
              "      <th>store_id</th>\n",
              "      <th>state_id</th>\n",
              "      <th>event_name_1</th>\n",
              "      <th>event_type_1</th>\n",
              "      <th>snap_WI</th>\n",
              "      <th>sell_price</th>\n",
              "    </tr>\n",
              "    <tr>\n",
              "      <th>date</th>\n",
              "      <th></th>\n",
              "      <th></th>\n",
              "      <th></th>\n",
              "      <th></th>\n",
              "      <th></th>\n",
              "      <th></th>\n",
              "      <th></th>\n",
              "      <th></th>\n",
              "      <th></th>\n",
              "    </tr>\n",
              "  </thead>\n",
              "  <tbody>\n",
              "    <tr>\n",
              "      <th>2015-02-13</th>\n",
              "      <td>2</td>\n",
              "      <td>2</td>\n",
              "      <td>0</td>\n",
              "      <td>1</td>\n",
              "      <td>0</td>\n",
              "      <td>30</td>\n",
              "      <td>4</td>\n",
              "      <td>0</td>\n",
              "      <td>3.980469</td>\n",
              "    </tr>\n",
              "    <tr>\n",
              "      <th>2015-02-14</th>\n",
              "      <td>1</td>\n",
              "      <td>2</td>\n",
              "      <td>0</td>\n",
              "      <td>1</td>\n",
              "      <td>0</td>\n",
              "      <td>28</td>\n",
              "      <td>0</td>\n",
              "      <td>1</td>\n",
              "      <td>3.980469</td>\n",
              "    </tr>\n",
              "    <tr>\n",
              "      <th>2015-02-15</th>\n",
              "      <td>9</td>\n",
              "      <td>2</td>\n",
              "      <td>0</td>\n",
              "      <td>1</td>\n",
              "      <td>0</td>\n",
              "      <td>30</td>\n",
              "      <td>4</td>\n",
              "      <td>1</td>\n",
              "      <td>3.980469</td>\n",
              "    </tr>\n",
              "    <tr>\n",
              "      <th>2015-02-18</th>\n",
              "      <td>1</td>\n",
              "      <td>2</td>\n",
              "      <td>0</td>\n",
              "      <td>1</td>\n",
              "      <td>0</td>\n",
              "      <td>11</td>\n",
              "      <td>2</td>\n",
              "      <td>0</td>\n",
              "      <td>3.980469</td>\n",
              "    </tr>\n",
              "    <tr>\n",
              "      <th>2015-02-19</th>\n",
              "      <td>1</td>\n",
              "      <td>2</td>\n",
              "      <td>0</td>\n",
              "      <td>1</td>\n",
              "      <td>0</td>\n",
              "      <td>30</td>\n",
              "      <td>4</td>\n",
              "      <td>0</td>\n",
              "      <td>3.980469</td>\n",
              "    </tr>\n",
              "  </tbody>\n",
              "</table>\n",
              "</div>"
            ],
            "text/plain": [
              "            demand  dept_id  cat_id  store_id  state_id  event_name_1  \\\n",
              "date                                                                    \n",
              "2015-02-13       2        2       0         1         0            30   \n",
              "2015-02-14       1        2       0         1         0            28   \n",
              "2015-02-15       9        2       0         1         0            30   \n",
              "2015-02-18       1        2       0         1         0            11   \n",
              "2015-02-19       1        2       0         1         0            30   \n",
              "\n",
              "            event_type_1  snap_WI  sell_price  \n",
              "date                                           \n",
              "2015-02-13             4        0    3.980469  \n",
              "2015-02-14             0        1    3.980469  \n",
              "2015-02-15             4        1    3.980469  \n",
              "2015-02-18             2        0    3.980469  \n",
              "2015-02-19             4        0    3.980469  "
            ]
          },
          "metadata": {
            "tags": []
          },
          "execution_count": 22
        }
      ]
    },
    {
      "cell_type": "code",
      "metadata": {
        "id": "ps5VhofB9v0Z",
        "colab_type": "code",
        "colab": {
          "base_uri": "https://localhost:8080/",
          "height": 235
        },
        "outputId": "4e3c9bd1-3fa8-4d76-cc6d-cc3e122384b3"
      },
      "source": [
        "df_3.head()"
      ],
      "execution_count": null,
      "outputs": [
        {
          "output_type": "execute_result",
          "data": {
            "text/html": [
              "<div>\n",
              "<style scoped>\n",
              "    .dataframe tbody tr th:only-of-type {\n",
              "        vertical-align: middle;\n",
              "    }\n",
              "\n",
              "    .dataframe tbody tr th {\n",
              "        vertical-align: top;\n",
              "    }\n",
              "\n",
              "    .dataframe thead th {\n",
              "        text-align: right;\n",
              "    }\n",
              "</style>\n",
              "<table border=\"1\" class=\"dataframe\">\n",
              "  <thead>\n",
              "    <tr style=\"text-align: right;\">\n",
              "      <th></th>\n",
              "      <th>demand</th>\n",
              "      <th>dept_id</th>\n",
              "      <th>cat_id</th>\n",
              "      <th>store_id</th>\n",
              "      <th>state_id</th>\n",
              "      <th>event_name_1</th>\n",
              "      <th>event_type_1</th>\n",
              "      <th>snap_WI</th>\n",
              "      <th>sell_price</th>\n",
              "    </tr>\n",
              "    <tr>\n",
              "      <th>date</th>\n",
              "      <th></th>\n",
              "      <th></th>\n",
              "      <th></th>\n",
              "      <th></th>\n",
              "      <th></th>\n",
              "      <th></th>\n",
              "      <th></th>\n",
              "      <th></th>\n",
              "      <th></th>\n",
              "    </tr>\n",
              "  </thead>\n",
              "  <tbody>\n",
              "    <tr>\n",
              "      <th>2015-02-13</th>\n",
              "      <td>7</td>\n",
              "      <td>2</td>\n",
              "      <td>0</td>\n",
              "      <td>5</td>\n",
              "      <td>1</td>\n",
              "      <td>30</td>\n",
              "      <td>4</td>\n",
              "      <td>0</td>\n",
              "      <td>3.980469</td>\n",
              "    </tr>\n",
              "    <tr>\n",
              "      <th>2015-02-14</th>\n",
              "      <td>8</td>\n",
              "      <td>2</td>\n",
              "      <td>0</td>\n",
              "      <td>5</td>\n",
              "      <td>1</td>\n",
              "      <td>28</td>\n",
              "      <td>0</td>\n",
              "      <td>1</td>\n",
              "      <td>3.980469</td>\n",
              "    </tr>\n",
              "    <tr>\n",
              "      <th>2015-02-15</th>\n",
              "      <td>5</td>\n",
              "      <td>2</td>\n",
              "      <td>0</td>\n",
              "      <td>5</td>\n",
              "      <td>1</td>\n",
              "      <td>30</td>\n",
              "      <td>4</td>\n",
              "      <td>1</td>\n",
              "      <td>3.980469</td>\n",
              "    </tr>\n",
              "    <tr>\n",
              "      <th>2015-02-16</th>\n",
              "      <td>4</td>\n",
              "      <td>2</td>\n",
              "      <td>0</td>\n",
              "      <td>5</td>\n",
              "      <td>1</td>\n",
              "      <td>22</td>\n",
              "      <td>1</td>\n",
              "      <td>0</td>\n",
              "      <td>3.980469</td>\n",
              "    </tr>\n",
              "    <tr>\n",
              "      <th>2015-02-17</th>\n",
              "      <td>9</td>\n",
              "      <td>2</td>\n",
              "      <td>0</td>\n",
              "      <td>5</td>\n",
              "      <td>1</td>\n",
              "      <td>30</td>\n",
              "      <td>4</td>\n",
              "      <td>0</td>\n",
              "      <td>3.980469</td>\n",
              "    </tr>\n",
              "  </tbody>\n",
              "</table>\n",
              "</div>"
            ],
            "text/plain": [
              "            demand  dept_id  cat_id  store_id  state_id  event_name_1  \\\n",
              "date                                                                    \n",
              "2015-02-13       7        2       0         5         1            30   \n",
              "2015-02-14       8        2       0         5         1            28   \n",
              "2015-02-15       5        2       0         5         1            30   \n",
              "2015-02-16       4        2       0         5         1            22   \n",
              "2015-02-17       9        2       0         5         1            30   \n",
              "\n",
              "            event_type_1  snap_WI  sell_price  \n",
              "date                                           \n",
              "2015-02-13             4        0    3.980469  \n",
              "2015-02-14             0        1    3.980469  \n",
              "2015-02-15             4        1    3.980469  \n",
              "2015-02-16             1        0    3.980469  \n",
              "2015-02-17             4        0    3.980469  "
            ]
          },
          "metadata": {
            "tags": []
          },
          "execution_count": 23
        }
      ]
    },
    {
      "cell_type": "code",
      "metadata": {
        "id": "jaCkyveA96Lp",
        "colab_type": "code",
        "colab": {}
      },
      "source": [
        "def mean_absolute_percentage_error(y_true, y_pred): \n",
        "    return np.mean(np.abs((y_true - y_pred) / y_true)) * 100\n",
        "\n",
        "def rmse(y_true, y_pred):\n",
        "    return np.sqrt(mean_squared_error(y_true, y_pred))"
      ],
      "execution_count": null,
      "outputs": []
    },
    {
      "cell_type": "markdown",
      "metadata": {
        "id": "gt3mAYJSNNo5",
        "colab_type": "text"
      },
      "source": [
        "## SARIMAX"
      ]
    },
    {
      "cell_type": "code",
      "metadata": {
        "id": "7HTxdY0j96jM",
        "colab_type": "code",
        "colab": {
          "base_uri": "https://localhost:8080/",
          "height": 34
        },
        "outputId": "999076ae-86e2-44a8-ac02-86fce0986fa4"
      },
      "source": [
        "# setting initial values and some bounds for them\n",
        "ps = range(2, 5)\n",
        "d=1 \n",
        "qs = range(2, 5)\n",
        "Ps = range(0, 2)\n",
        "D=1 \n",
        "Qs = range(0, 2)\n",
        "s = 28 # season length is still 28\n",
        "\n",
        "# creating list with all the possible combinations of parameters\n",
        "parameters = product(ps, qs, Ps, Qs)\n",
        "parameters_list = list(parameters)\n",
        "len(parameters_list)"
      ],
      "execution_count": null,
      "outputs": [
        {
          "output_type": "execute_result",
          "data": {
            "text/plain": [
              "36"
            ]
          },
          "metadata": {
            "tags": []
          },
          "execution_count": 25
        }
      ]
    },
    {
      "cell_type": "code",
      "metadata": {
        "id": "YQOjJERG96yh",
        "colab_type": "code",
        "colab": {}
      },
      "source": [
        "def optimizeSARIMA(parameters_list, d, D, s, df):\n",
        "    \"\"\"\n",
        "        Return dataframe with parameters and corresponding AIC\n",
        "        \n",
        "        parameters_list - list with (p, q, P, Q) tuples\n",
        "        d - integration order in ARIMA model\n",
        "        D - seasonal integration order \n",
        "        s - length of season\n",
        "    \"\"\"\n",
        "    \n",
        "    results = []\n",
        "    best_aic = float(\"inf\")\n",
        "\n",
        "    for param in tqdm_notebook(parameters_list):\n",
        "        # we need try-except because on some combinations model fails to converge\n",
        "        try:\n",
        "            model=sm.tsa.statespace.SARIMAX(df['demand'], \n",
        "                                            order=(param[0], d, param[1]), \n",
        "                                            seasonal_order=(param[2], D, param[3], s)).fit(disp=-1)\n",
        "        except:\n",
        "            continue\n",
        "        aic = model.aic\n",
        "        # saving best model, AIC and parameters\n",
        "        if aic < best_aic:\n",
        "            best_model = model\n",
        "            best_aic = aic\n",
        "            best_param = param\n",
        "        results.append([param, model.aic])\n",
        "\n",
        "    result_table = pd.DataFrame(results)\n",
        "    result_table.columns = ['parameters', 'aic']\n",
        "    # sorting in ascending order, the lower AIC is - the better\n",
        "    result_table = result_table.sort_values(by='aic', ascending=True).reset_index(drop=True)\n",
        "    \n",
        "    return result_table"
      ],
      "execution_count": null,
      "outputs": []
    },
    {
      "cell_type": "code",
      "metadata": {
        "id": "6Q5u082m96vT",
        "colab_type": "code",
        "colab": {}
      },
      "source": [
        "result_table_1 = optimizeSARIMA(parameters_list, d, D, s, df_1)"
      ],
      "execution_count": null,
      "outputs": []
    },
    {
      "cell_type": "code",
      "metadata": {
        "id": "hXfGPqqMC9VG",
        "colab_type": "code",
        "colab": {
          "base_uri": "https://localhost:8080/",
          "height": 66,
          "referenced_widgets": [
            "4c5e73463e1a4da29a3b2de01ad92274",
            "df522199851e415fa937b86f1fe73ad0",
            "f536fc1e7aae431ab2dc3623fdab2847",
            "4ea3ec5ddb6f4ba887f87bc0a7ea8f3c",
            "7a4d356eece14a329cdf2430007fe2ed",
            "0b3d39ebf1164bea8eb736ed4ad91fc6",
            "9f6b16ee7c2a4c19a9601fcd0a8bc88c",
            "0e8dd7649b6c4a5d805fb7880f3ede17"
          ]
        },
        "outputId": "fc86284d-9300-4a32-ad8a-73d0f37272ee"
      },
      "source": [
        "result_table_2 = optimizeSARIMA(parameters_list, d, D, s, df_2)"
      ],
      "execution_count": null,
      "outputs": [
        {
          "output_type": "display_data",
          "data": {
            "application/vnd.jupyter.widget-view+json": {
              "model_id": "4c5e73463e1a4da29a3b2de01ad92274",
              "version_minor": 0,
              "version_major": 2
            },
            "text/plain": [
              "HBox(children=(FloatProgress(value=0.0, max=36.0), HTML(value='')))"
            ]
          },
          "metadata": {
            "tags": []
          }
        },
        {
          "output_type": "stream",
          "text": [
            "\n"
          ],
          "name": "stdout"
        }
      ]
    },
    {
      "cell_type": "code",
      "metadata": {
        "id": "NatKwcDJC_8F",
        "colab_type": "code",
        "colab": {
          "base_uri": "https://localhost:8080/",
          "height": 66,
          "referenced_widgets": [
            "241f6e37ee874969847e02a7867d26a9",
            "6c340f36fdbd411196365d3af12bd76c",
            "60b0e5c876d9470fbcb7bf7f5e4e9c37",
            "74acbc0d8c274ca99853fce2adac2294",
            "111ba6488b0441ec8e52d7834e73cb0a",
            "7c2a5d08436f4ff796cc5261ea1509df",
            "a7e134760f5c4adca5facede804ab194",
            "fe7208dcb72243e98f9d2417673031c3"
          ]
        },
        "outputId": "72e40a5b-0581-41ca-9e3a-6245efe51eb1"
      },
      "source": [
        "result_table_3 = optimizeSARIMA(parameters_list, d, D, s, df_3)"
      ],
      "execution_count": null,
      "outputs": [
        {
          "output_type": "display_data",
          "data": {
            "application/vnd.jupyter.widget-view+json": {
              "model_id": "241f6e37ee874969847e02a7867d26a9",
              "version_minor": 0,
              "version_major": 2
            },
            "text/plain": [
              "HBox(children=(FloatProgress(value=0.0, max=36.0), HTML(value='')))"
            ]
          },
          "metadata": {
            "tags": []
          }
        },
        {
          "output_type": "stream",
          "text": [
            "\n"
          ],
          "name": "stdout"
        }
      ]
    },
    {
      "cell_type": "code",
      "metadata": {
        "id": "h5bC63ydC2Xg",
        "colab_type": "code",
        "colab": {
          "base_uri": "https://localhost:8080/",
          "height": 204
        },
        "outputId": "c797aec0-6f52-4d09-a49d-0aba54c743b1"
      },
      "source": [
        "result_table_1.head()"
      ],
      "execution_count": null,
      "outputs": [
        {
          "output_type": "execute_result",
          "data": {
            "text/html": [
              "<div>\n",
              "<style scoped>\n",
              "    .dataframe tbody tr th:only-of-type {\n",
              "        vertical-align: middle;\n",
              "    }\n",
              "\n",
              "    .dataframe tbody tr th {\n",
              "        vertical-align: top;\n",
              "    }\n",
              "\n",
              "    .dataframe thead th {\n",
              "        text-align: right;\n",
              "    }\n",
              "</style>\n",
              "<table border=\"1\" class=\"dataframe\">\n",
              "  <thead>\n",
              "    <tr style=\"text-align: right;\">\n",
              "      <th></th>\n",
              "      <th>parameters</th>\n",
              "      <th>aic</th>\n",
              "    </tr>\n",
              "  </thead>\n",
              "  <tbody>\n",
              "    <tr>\n",
              "      <th>0</th>\n",
              "      <td>(2, 3, 0, 1)</td>\n",
              "      <td>1515.528069</td>\n",
              "    </tr>\n",
              "    <tr>\n",
              "      <th>1</th>\n",
              "      <td>(3, 4, 0, 1)</td>\n",
              "      <td>1517.114745</td>\n",
              "    </tr>\n",
              "    <tr>\n",
              "      <th>2</th>\n",
              "      <td>(2, 3, 1, 1)</td>\n",
              "      <td>1517.529404</td>\n",
              "    </tr>\n",
              "    <tr>\n",
              "      <th>3</th>\n",
              "      <td>(2, 4, 0, 1)</td>\n",
              "      <td>1517.551408</td>\n",
              "    </tr>\n",
              "    <tr>\n",
              "      <th>4</th>\n",
              "      <td>(3, 4, 1, 1)</td>\n",
              "      <td>1518.842693</td>\n",
              "    </tr>\n",
              "  </tbody>\n",
              "</table>\n",
              "</div>"
            ],
            "text/plain": [
              "     parameters          aic\n",
              "0  (2, 3, 0, 1)  1515.528069\n",
              "1  (3, 4, 0, 1)  1517.114745\n",
              "2  (2, 3, 1, 1)  1517.529404\n",
              "3  (2, 4, 0, 1)  1517.551408\n",
              "4  (3, 4, 1, 1)  1518.842693"
            ]
          },
          "metadata": {
            "tags": []
          },
          "execution_count": 32
        }
      ]
    },
    {
      "cell_type": "code",
      "metadata": {
        "id": "2pYO5TP4DDSF",
        "colab_type": "code",
        "colab": {
          "base_uri": "https://localhost:8080/",
          "height": 204
        },
        "outputId": "4e41cdd9-0737-42dd-debb-8f4bb6cd158b"
      },
      "source": [
        "result_table_2.head()"
      ],
      "execution_count": null,
      "outputs": [
        {
          "output_type": "execute_result",
          "data": {
            "text/html": [
              "<div>\n",
              "<style scoped>\n",
              "    .dataframe tbody tr th:only-of-type {\n",
              "        vertical-align: middle;\n",
              "    }\n",
              "\n",
              "    .dataframe tbody tr th {\n",
              "        vertical-align: top;\n",
              "    }\n",
              "\n",
              "    .dataframe thead th {\n",
              "        text-align: right;\n",
              "    }\n",
              "</style>\n",
              "<table border=\"1\" class=\"dataframe\">\n",
              "  <thead>\n",
              "    <tr style=\"text-align: right;\">\n",
              "      <th></th>\n",
              "      <th>parameters</th>\n",
              "      <th>aic</th>\n",
              "    </tr>\n",
              "  </thead>\n",
              "  <tbody>\n",
              "    <tr>\n",
              "      <th>0</th>\n",
              "      <td>(2, 3, 0, 1)</td>\n",
              "      <td>1369.028401</td>\n",
              "    </tr>\n",
              "    <tr>\n",
              "      <th>1</th>\n",
              "      <td>(4, 3, 0, 1)</td>\n",
              "      <td>1369.917111</td>\n",
              "    </tr>\n",
              "    <tr>\n",
              "      <th>2</th>\n",
              "      <td>(2, 3, 1, 1)</td>\n",
              "      <td>1370.491349</td>\n",
              "    </tr>\n",
              "    <tr>\n",
              "      <th>3</th>\n",
              "      <td>(3, 3, 1, 1)</td>\n",
              "      <td>1372.329919</td>\n",
              "    </tr>\n",
              "    <tr>\n",
              "      <th>4</th>\n",
              "      <td>(4, 4, 0, 1)</td>\n",
              "      <td>1373.396469</td>\n",
              "    </tr>\n",
              "  </tbody>\n",
              "</table>\n",
              "</div>"
            ],
            "text/plain": [
              "     parameters          aic\n",
              "0  (2, 3, 0, 1)  1369.028401\n",
              "1  (4, 3, 0, 1)  1369.917111\n",
              "2  (2, 3, 1, 1)  1370.491349\n",
              "3  (3, 3, 1, 1)  1372.329919\n",
              "4  (4, 4, 0, 1)  1373.396469"
            ]
          },
          "metadata": {
            "tags": []
          },
          "execution_count": 33
        }
      ]
    },
    {
      "cell_type": "code",
      "metadata": {
        "id": "Ys88RjiFDFNP",
        "colab_type": "code",
        "colab": {
          "base_uri": "https://localhost:8080/",
          "height": 204
        },
        "outputId": "d6407c68-9331-435b-d3a0-527dba393598"
      },
      "source": [
        "result_table_3.head()"
      ],
      "execution_count": null,
      "outputs": [
        {
          "output_type": "execute_result",
          "data": {
            "text/html": [
              "<div>\n",
              "<style scoped>\n",
              "    .dataframe tbody tr th:only-of-type {\n",
              "        vertical-align: middle;\n",
              "    }\n",
              "\n",
              "    .dataframe tbody tr th {\n",
              "        vertical-align: top;\n",
              "    }\n",
              "\n",
              "    .dataframe thead th {\n",
              "        text-align: right;\n",
              "    }\n",
              "</style>\n",
              "<table border=\"1\" class=\"dataframe\">\n",
              "  <thead>\n",
              "    <tr style=\"text-align: right;\">\n",
              "      <th></th>\n",
              "      <th>parameters</th>\n",
              "      <th>aic</th>\n",
              "    </tr>\n",
              "  </thead>\n",
              "  <tbody>\n",
              "    <tr>\n",
              "      <th>0</th>\n",
              "      <td>(2, 2, 0, 1)</td>\n",
              "      <td>1193.861440</td>\n",
              "    </tr>\n",
              "    <tr>\n",
              "      <th>1</th>\n",
              "      <td>(2, 3, 0, 1)</td>\n",
              "      <td>1193.889895</td>\n",
              "    </tr>\n",
              "    <tr>\n",
              "      <th>2</th>\n",
              "      <td>(2, 2, 1, 1)</td>\n",
              "      <td>1194.675560</td>\n",
              "    </tr>\n",
              "    <tr>\n",
              "      <th>3</th>\n",
              "      <td>(4, 4, 0, 1)</td>\n",
              "      <td>1195.046446</td>\n",
              "    </tr>\n",
              "    <tr>\n",
              "      <th>4</th>\n",
              "      <td>(2, 4, 0, 1)</td>\n",
              "      <td>1195.050220</td>\n",
              "    </tr>\n",
              "  </tbody>\n",
              "</table>\n",
              "</div>"
            ],
            "text/plain": [
              "     parameters          aic\n",
              "0  (2, 2, 0, 1)  1193.861440\n",
              "1  (2, 3, 0, 1)  1193.889895\n",
              "2  (2, 2, 1, 1)  1194.675560\n",
              "3  (4, 4, 0, 1)  1195.046446\n",
              "4  (2, 4, 0, 1)  1195.050220"
            ]
          },
          "metadata": {
            "tags": []
          },
          "execution_count": 34
        }
      ]
    },
    {
      "cell_type": "code",
      "metadata": {
        "id": "b0J90QDS96sS",
        "colab_type": "code",
        "colab": {
          "base_uri": "https://localhost:8080/",
          "height": 493
        },
        "outputId": "4b7059e9-9d74-4915-e75b-d7b88150e8db"
      },
      "source": [
        "# set the parameters that give the lowest AIC\n",
        "p, q, P, Q = result_table_1.parameters[0]\n",
        "\n",
        "best_model_1=sm.tsa.statespace.SARIMAX(df_1['demand'],order=(p, d, q),seasonal_order=(P, D, Q, s)).fit(disp=-1)\n",
        "print(best_model_1.summary())"
      ],
      "execution_count": null,
      "outputs": [
        {
          "output_type": "stream",
          "text": [
            "                                 Statespace Model Results                                 \n",
            "==========================================================================================\n",
            "Dep. Variable:                             demand   No. Observations:                  335\n",
            "Model:             SARIMAX(2, 1, 3)x(0, 1, 1, 28)   Log Likelihood                -750.764\n",
            "Date:                            Tue, 21 Jul 2020   AIC                           1515.528\n",
            "Time:                                    02:16:08   BIC                           1541.593\n",
            "Sample:                                         0   HQIC                          1525.952\n",
            "                                            - 335                                         \n",
            "Covariance Type:                              opg                                         \n",
            "==============================================================================\n",
            "                 coef    std err          z      P>|z|      [0.025      0.975]\n",
            "------------------------------------------------------------------------------\n",
            "ar.L1          1.1321      0.026     43.397      0.000       1.081       1.183\n",
            "ar.L2         -0.9699      0.026    -36.841      0.000      -1.021      -0.918\n",
            "ma.L1         -2.0527      0.054    -37.971      0.000      -2.159      -1.947\n",
            "ma.L2          1.9535      0.090     21.614      0.000       1.776       2.131\n",
            "ma.L3         -0.8552      0.051    -16.759      0.000      -0.955      -0.755\n",
            "ma.S.L28      -0.9861      0.563     -1.753      0.080      -2.089       0.117\n",
            "sigma2         6.3093      3.265      1.932      0.053      -0.091      12.710\n",
            "===================================================================================\n",
            "Ljung-Box (Q):                       33.78   Jarque-Bera (JB):                 5.20\n",
            "Prob(Q):                              0.75   Prob(JB):                         0.07\n",
            "Heteroskedasticity (H):               1.52   Skew:                             0.32\n",
            "Prob(H) (two-sided):                  0.04   Kurtosis:                         3.05\n",
            "===================================================================================\n",
            "\n",
            "Warnings:\n",
            "[1] Covariance matrix calculated using the outer product of gradients (complex-step).\n"
          ],
          "name": "stdout"
        }
      ]
    },
    {
      "cell_type": "code",
      "metadata": {
        "id": "oJQn0H8rDhom",
        "colab_type": "code",
        "colab": {
          "base_uri": "https://localhost:8080/",
          "height": 493
        },
        "outputId": "f3909776-6680-4bc8-b7b5-240da4acac3e"
      },
      "source": [
        "p, q, P, Q = result_table_2.parameters[0]\n",
        "\n",
        "best_model_2=sm.tsa.statespace.SARIMAX(df_2['demand'],order=(p, d, q),seasonal_order=(P, D, Q, s)).fit(disp=-1)\n",
        "print(best_model_2.summary())"
      ],
      "execution_count": null,
      "outputs": [
        {
          "output_type": "stream",
          "text": [
            "                                 Statespace Model Results                                 \n",
            "==========================================================================================\n",
            "Dep. Variable:                             demand   No. Observations:                  306\n",
            "Model:             SARIMAX(2, 1, 3)x(0, 1, 1, 28)   Log Likelihood                -677.514\n",
            "Date:                            Tue, 21 Jul 2020   AIC                           1369.028\n",
            "Time:                                    02:16:44   BIC                           1394.397\n",
            "Sample:                                         0   HQIC                          1379.207\n",
            "                                            - 306                                         \n",
            "Covariance Type:                              opg                                         \n",
            "==============================================================================\n",
            "                 coef    std err          z      P>|z|      [0.025      0.975]\n",
            "------------------------------------------------------------------------------\n",
            "ar.L1          1.0955      0.082     13.326      0.000       0.934       1.257\n",
            "ar.L2         -0.8274      0.086     -9.652      0.000      -0.995      -0.659\n",
            "ma.L1         -1.9537      0.113    -17.271      0.000      -2.175      -1.732\n",
            "ma.L2          1.5927      0.208      7.647      0.000       1.185       2.001\n",
            "ma.L3         -0.6094      0.120     -5.063      0.000      -0.845      -0.373\n",
            "ma.S.L28      -0.9999     88.839     -0.011      0.991    -175.120     173.121\n",
            "sigma2         5.9140    525.271      0.011      0.991   -1023.599    1035.427\n",
            "===================================================================================\n",
            "Ljung-Box (Q):                       48.98   Jarque-Bera (JB):                17.51\n",
            "Prob(Q):                              0.16   Prob(JB):                         0.00\n",
            "Heteroskedasticity (H):               1.41   Skew:                             0.59\n",
            "Prob(H) (two-sided):                  0.10   Kurtosis:                         3.37\n",
            "===================================================================================\n",
            "\n",
            "Warnings:\n",
            "[1] Covariance matrix calculated using the outer product of gradients (complex-step).\n"
          ],
          "name": "stdout"
        }
      ]
    },
    {
      "cell_type": "code",
      "metadata": {
        "id": "vChYwhPCDmmJ",
        "colab_type": "code",
        "colab": {
          "base_uri": "https://localhost:8080/",
          "height": 476
        },
        "outputId": "8a79fd70-c973-48e8-ec59-bde3f5062fe3"
      },
      "source": [
        "p, q, P, Q = result_table_3.parameters[0]\n",
        "\n",
        "best_model_3=sm.tsa.statespace.SARIMAX(df_3['demand'],order=(p, d, q),seasonal_order=(P, D, Q, s)).fit(disp=-1)\n",
        "print(best_model_3.summary())"
      ],
      "execution_count": null,
      "outputs": [
        {
          "output_type": "stream",
          "text": [
            "                                 Statespace Model Results                                 \n",
            "==========================================================================================\n",
            "Dep. Variable:                             demand   No. Observations:                  290\n",
            "Model:             SARIMAX(2, 1, 2)x(0, 1, 1, 28)   Log Likelihood                -590.931\n",
            "Date:                            Tue, 21 Jul 2020   AIC                           1193.861\n",
            "Time:                                    02:16:58   BIC                           1215.249\n",
            "Sample:                                         0   HQIC                          1202.458\n",
            "                                            - 290                                         \n",
            "Covariance Type:                              opg                                         \n",
            "==============================================================================\n",
            "                 coef    std err          z      P>|z|      [0.025      0.975]\n",
            "------------------------------------------------------------------------------\n",
            "ar.L1          0.3047      0.958      0.318      0.751      -1.574       2.183\n",
            "ar.L2         -0.0946      0.152     -0.621      0.535      -0.393       0.204\n",
            "ma.L1         -1.0832      0.973     -1.113      0.266      -2.991       0.825\n",
            "ma.L2          0.1361      0.923      0.148      0.883      -1.672       1.944\n",
            "ma.S.L28      -0.7992      0.072    -11.143      0.000      -0.940      -0.659\n",
            "sigma2         4.8234      0.423     11.413      0.000       3.995       5.652\n",
            "===================================================================================\n",
            "Ljung-Box (Q):                       28.25   Jarque-Bera (JB):                27.34\n",
            "Prob(Q):                              0.92   Prob(JB):                         0.00\n",
            "Heteroskedasticity (H):               1.02   Skew:                             0.62\n",
            "Prob(H) (two-sided):                  0.91   Kurtosis:                         3.98\n",
            "===================================================================================\n",
            "\n",
            "Warnings:\n",
            "[1] Covariance matrix calculated using the outer product of gradients (complex-step).\n"
          ],
          "name": "stdout"
        }
      ]
    },
    {
      "cell_type": "code",
      "metadata": {
        "id": "0f805TQu96pW",
        "colab_type": "code",
        "colab": {}
      },
      "source": [
        "def errorSARIMA(series, model, n_steps):\n",
        "    \"\"\"\n",
        "        Plots model vs predicted values\n",
        "        \n",
        "        series - dataset with timeseries\n",
        "        model - fitted SARIMA model\n",
        "        n_steps - number of steps to predict in the future\n",
        "        \n",
        "    \"\"\"\n",
        "    # adding model values\n",
        "    dfCopy = series.copy()\n",
        "    \n",
        "    dfCopy['arima_model'] = model.fittedvalues\n",
        "    # making a shift on s+d steps, because these values were unobserved by the model\n",
        "    # due to the differentiating\n",
        "    dfCopy['arima_model'][:s+d] = np.NaN    \n",
        "    \n",
        "    # forecasting on n_steps forward \n",
        "    forecast = model.predict(start = dfCopy.shape[0], end = dfCopy.shape[0]+n_steps)\n",
        "    forecast = dfCopy['arima_model'].append(forecast)\n",
        "\n",
        "    # calculate error, again having shifted on s+d steps from the beginning\n",
        "    error = rmse(dfCopy['demand'][s+d:], dfCopy['arima_model'][s+d:])\n",
        "    return (\"RMSE: {0:.2f}\".format(error))\n",
        "\n"
      ],
      "execution_count": null,
      "outputs": []
    },
    {
      "cell_type": "code",
      "metadata": {
        "id": "1jFqMTJ596f4",
        "colab_type": "code",
        "colab": {
          "base_uri": "https://localhost:8080/",
          "height": 35
        },
        "outputId": "b752708c-dc0e-460c-ed48-386ab78a1992"
      },
      "source": [
        "errorSARIMA(df_1, best_model_1, 28)"
      ],
      "execution_count": null,
      "outputs": [
        {
          "output_type": "execute_result",
          "data": {
            "application/vnd.google.colaboratory.intrinsic": {
              "type": "string"
            },
            "text/plain": [
              "'RMSE: 2.88'"
            ]
          },
          "metadata": {
            "tags": []
          },
          "execution_count": 43
        }
      ]
    },
    {
      "cell_type": "code",
      "metadata": {
        "id": "TdJLTxvv96c0",
        "colab_type": "code",
        "colab": {
          "base_uri": "https://localhost:8080/",
          "height": 35
        },
        "outputId": "17268fd1-1b99-43fa-c4cc-2e0d45e01855"
      },
      "source": [
        "errorSARIMA(df_2, best_model_2, 28)"
      ],
      "execution_count": null,
      "outputs": [
        {
          "output_type": "execute_result",
          "data": {
            "application/vnd.google.colaboratory.intrinsic": {
              "type": "string"
            },
            "text/plain": [
              "'RMSE: 2.79'"
            ]
          },
          "metadata": {
            "tags": []
          },
          "execution_count": 44
        }
      ]
    },
    {
      "cell_type": "code",
      "metadata": {
        "id": "ulcMPdq996Z2",
        "colab_type": "code",
        "colab": {
          "base_uri": "https://localhost:8080/",
          "height": 35
        },
        "outputId": "d0b74a5f-dafb-496f-883b-96492f590fb5"
      },
      "source": [
        "errorSARIMA(df_3, best_model_3, 28)"
      ],
      "execution_count": null,
      "outputs": [
        {
          "output_type": "execute_result",
          "data": {
            "application/vnd.google.colaboratory.intrinsic": {
              "type": "string"
            },
            "text/plain": [
              "'RMSE: 2.37'"
            ]
          },
          "metadata": {
            "tags": []
          },
          "execution_count": 45
        }
      ]
    },
    {
      "cell_type": "code",
      "metadata": {
        "id": "PmNeiUufp7Cv",
        "colab_type": "code",
        "colab": {
          "base_uri": "https://localhost:8080/",
          "height": 235
        },
        "outputId": "e6b8c677-9dae-4005-ef31-5489f645b20a"
      },
      "source": [
        "# Select training and validation data only for analysis\n",
        "# Selecting only 1 item for testing: FOODS_3_634_WI_2\n",
        "df = data [(data ['date'] <= '2016-04-24') & (data ['id'] == 'FOODS_3_634_WI_2_validation') & (data ['demand']> 0) & (data [ 'demand'] <= 15)]\n",
        "\n",
        "# Selecting only a few columns for analysis and training\n",
        "df = df [['date', 'demand', 'dept_id', 'cat_id', 'store_id', 'state_id', 'event_name_1', 'event_type_1', 'snap_WI', 'sell_price']]\n",
        "\n",
        "# Transforming the date as index\n",
        "df = df.set_index ('date')\n",
        "\n",
        "# Viewing the dataset result\n",
        "df.head ()"
      ],
      "execution_count": null,
      "outputs": [
        {
          "output_type": "execute_result",
          "data": {
            "text/html": [
              "<div>\n",
              "<style scoped>\n",
              "    .dataframe tbody tr th:only-of-type {\n",
              "        vertical-align: middle;\n",
              "    }\n",
              "\n",
              "    .dataframe tbody tr th {\n",
              "        vertical-align: top;\n",
              "    }\n",
              "\n",
              "    .dataframe thead th {\n",
              "        text-align: right;\n",
              "    }\n",
              "</style>\n",
              "<table border=\"1\" class=\"dataframe\">\n",
              "  <thead>\n",
              "    <tr style=\"text-align: right;\">\n",
              "      <th></th>\n",
              "      <th>demand</th>\n",
              "      <th>dept_id</th>\n",
              "      <th>cat_id</th>\n",
              "      <th>store_id</th>\n",
              "      <th>state_id</th>\n",
              "      <th>event_name_1</th>\n",
              "      <th>event_type_1</th>\n",
              "      <th>snap_WI</th>\n",
              "      <th>sell_price</th>\n",
              "    </tr>\n",
              "    <tr>\n",
              "      <th>date</th>\n",
              "      <th></th>\n",
              "      <th></th>\n",
              "      <th></th>\n",
              "      <th></th>\n",
              "      <th></th>\n",
              "      <th></th>\n",
              "      <th></th>\n",
              "      <th></th>\n",
              "      <th></th>\n",
              "    </tr>\n",
              "  </thead>\n",
              "  <tbody>\n",
              "    <tr>\n",
              "      <th>2015-02-12</th>\n",
              "      <td>7</td>\n",
              "      <td>2</td>\n",
              "      <td>0</td>\n",
              "      <td>8</td>\n",
              "      <td>2</td>\n",
              "      <td>30</td>\n",
              "      <td>4</td>\n",
              "      <td>1</td>\n",
              "      <td>3.980469</td>\n",
              "    </tr>\n",
              "    <tr>\n",
              "      <th>2015-02-13</th>\n",
              "      <td>3</td>\n",
              "      <td>2</td>\n",
              "      <td>0</td>\n",
              "      <td>8</td>\n",
              "      <td>2</td>\n",
              "      <td>30</td>\n",
              "      <td>4</td>\n",
              "      <td>0</td>\n",
              "      <td>3.980469</td>\n",
              "    </tr>\n",
              "    <tr>\n",
              "      <th>2015-02-14</th>\n",
              "      <td>6</td>\n",
              "      <td>2</td>\n",
              "      <td>0</td>\n",
              "      <td>8</td>\n",
              "      <td>2</td>\n",
              "      <td>28</td>\n",
              "      <td>0</td>\n",
              "      <td>1</td>\n",
              "      <td>3.980469</td>\n",
              "    </tr>\n",
              "    <tr>\n",
              "      <th>2015-02-15</th>\n",
              "      <td>6</td>\n",
              "      <td>2</td>\n",
              "      <td>0</td>\n",
              "      <td>8</td>\n",
              "      <td>2</td>\n",
              "      <td>30</td>\n",
              "      <td>4</td>\n",
              "      <td>1</td>\n",
              "      <td>3.980469</td>\n",
              "    </tr>\n",
              "    <tr>\n",
              "      <th>2015-02-16</th>\n",
              "      <td>7</td>\n",
              "      <td>2</td>\n",
              "      <td>0</td>\n",
              "      <td>8</td>\n",
              "      <td>2</td>\n",
              "      <td>22</td>\n",
              "      <td>1</td>\n",
              "      <td>0</td>\n",
              "      <td>3.980469</td>\n",
              "    </tr>\n",
              "  </tbody>\n",
              "</table>\n",
              "</div>"
            ],
            "text/plain": [
              "            demand  dept_id  cat_id  store_id  state_id  event_name_1  \\\n",
              "date                                                                    \n",
              "2015-02-12       7        2       0         8         2            30   \n",
              "2015-02-13       3        2       0         8         2            30   \n",
              "2015-02-14       6        2       0         8         2            28   \n",
              "2015-02-15       6        2       0         8         2            30   \n",
              "2015-02-16       7        2       0         8         2            22   \n",
              "\n",
              "            event_type_1  snap_WI  sell_price  \n",
              "date                                           \n",
              "2015-02-12             4        1    3.980469  \n",
              "2015-02-13             4        0    3.980469  \n",
              "2015-02-14             0        1    3.980469  \n",
              "2015-02-15             4        1    3.980469  \n",
              "2015-02-16             1        0    3.980469  "
            ]
          },
          "metadata": {
            "tags": []
          },
          "execution_count": 48
        }
      ]
    },
    {
      "cell_type": "markdown",
      "metadata": {
        "id": "oWRwIRZmNWHJ",
        "colab_type": "text"
      },
      "source": [
        "## Feature engineering"
      ]
    },
    {
      "cell_type": "code",
      "metadata": {
        "id": "6iYfhg47Nd4X",
        "colab_type": "code",
        "colab": {}
      },
      "source": [
        "new_df = data [(data ['date'] <= '2016-04-24') & (data ['demand']> 0)]\n",
        "new_df = new_df [['date', 'demand', 'dept_id', 'cat_id', 'store_id', 'state_id', 'event_name_1', 'event_type_1', 'snap_WI', 'sell_price']]\n",
        "new_df = new_df.set_index ('date')"
      ],
      "execution_count": null,
      "outputs": []
    },
    {
      "cell_type": "code",
      "metadata": {
        "id": "Wu8gsvXuQDfn",
        "colab_type": "code",
        "colab": {}
      },
      "source": [
        "df = data [(data ['date'] <= '2016-04-24') & (data ['demand']> 0)]\n",
        "df = df [['date', 'demand', 'dept_id', 'cat_id', 'store_id', 'state_id', 'event_name_1', 'event_type_1', 'snap_WI', 'sell_price']]\n",
        "df = df.set_index ('date')"
      ],
      "execution_count": null,
      "outputs": []
    },
    {
      "cell_type": "code",
      "metadata": {
        "id": "cZAgS9uzNvu0",
        "colab_type": "code",
        "colab": {}
      },
      "source": [
        "for i in range(7, 29):\n",
        "    new_df[\"lag_{}\".format(i)] = new_df['demand'].shift(i)"
      ],
      "execution_count": null,
      "outputs": []
    },
    {
      "cell_type": "code",
      "metadata": {
        "id": "uM1xASZQOGRB",
        "colab_type": "code",
        "colab": {}
      },
      "source": [
        "tscv = TimeSeriesSplit(n_splits=5)"
      ],
      "execution_count": null,
      "outputs": []
    },
    {
      "cell_type": "code",
      "metadata": {
        "id": "7RJHNA14OHVh",
        "colab_type": "code",
        "colab": {}
      },
      "source": [
        "def timeseries_train_test_split(X, y, test_size):\n",
        "    \"\"\"\n",
        "        Perform train-test split with respect to time series structure\n",
        "    \"\"\"\n",
        "    \n",
        "    # get the index after which test set starts\n",
        "    test_index = int(len(X)*(1-test_size))\n",
        "    \n",
        "    X_train = X.iloc[:test_index]\n",
        "    y_train = y.iloc[:test_index]\n",
        "    X_test  = X.iloc[test_index:]\n",
        "    y_test  = y.iloc[test_index:]\n",
        "    \n",
        "    return X_train, X_test, y_train, y_test"
      ],
      "execution_count": null,
      "outputs": []
    },
    {
      "cell_type": "code",
      "metadata": {
        "id": "pYEfvjDlOMj_",
        "colab_type": "code",
        "colab": {}
      },
      "source": [
        "y = new_df.dropna()['demand']\n",
        "X = new_df.dropna().drop(['demand'], axis=1)"
      ],
      "execution_count": null,
      "outputs": []
    },
    {
      "cell_type": "code",
      "metadata": {
        "id": "Ay6Ymr63OOlE",
        "colab_type": "code",
        "colab": {}
      },
      "source": [
        "X_train, X_test, y_train, y_test = timeseries_train_test_split(X, y, test_size=0.1)"
      ],
      "execution_count": null,
      "outputs": []
    },
    {
      "cell_type": "code",
      "metadata": {
        "id": "c1kPq1y9Oewm",
        "colab_type": "code",
        "colab": {
          "base_uri": "https://localhost:8080/",
          "height": 340
        },
        "outputId": "9151b17b-177a-42cb-c69d-352eeebe65c9"
      },
      "source": [
        "new_df.index = pd.to_datetime(new_df.index)\n",
        "new_df[\"day\"] = new_df.index.day\n",
        "new_df[\"weekday\"] = new_df.index.weekday\n",
        "new_df['is_weekend'] = new_df.weekday.isin([5,6])*1\n",
        "new_df.tail()"
      ],
      "execution_count": null,
      "outputs": [
        {
          "output_type": "execute_result",
          "data": {
            "text/html": [
              "<div>\n",
              "<style scoped>\n",
              "    .dataframe tbody tr th:only-of-type {\n",
              "        vertical-align: middle;\n",
              "    }\n",
              "\n",
              "    .dataframe tbody tr th {\n",
              "        vertical-align: top;\n",
              "    }\n",
              "\n",
              "    .dataframe thead th {\n",
              "        text-align: right;\n",
              "    }\n",
              "</style>\n",
              "<table border=\"1\" class=\"dataframe\">\n",
              "  <thead>\n",
              "    <tr style=\"text-align: right;\">\n",
              "      <th></th>\n",
              "      <th>demand</th>\n",
              "      <th>dept_id</th>\n",
              "      <th>cat_id</th>\n",
              "      <th>store_id</th>\n",
              "      <th>state_id</th>\n",
              "      <th>event_name_1</th>\n",
              "      <th>event_type_1</th>\n",
              "      <th>snap_WI</th>\n",
              "      <th>sell_price</th>\n",
              "      <th>lag_7</th>\n",
              "      <th>lag_8</th>\n",
              "      <th>lag_9</th>\n",
              "      <th>lag_10</th>\n",
              "      <th>lag_11</th>\n",
              "      <th>lag_12</th>\n",
              "      <th>lag_13</th>\n",
              "      <th>lag_14</th>\n",
              "      <th>lag_15</th>\n",
              "      <th>lag_16</th>\n",
              "      <th>lag_17</th>\n",
              "      <th>lag_18</th>\n",
              "      <th>lag_19</th>\n",
              "      <th>lag_20</th>\n",
              "      <th>lag_21</th>\n",
              "      <th>lag_22</th>\n",
              "      <th>lag_23</th>\n",
              "      <th>lag_24</th>\n",
              "      <th>lag_25</th>\n",
              "      <th>lag_26</th>\n",
              "      <th>lag_27</th>\n",
              "      <th>lag_28</th>\n",
              "      <th>day</th>\n",
              "      <th>weekday</th>\n",
              "      <th>is_weekend</th>\n",
              "    </tr>\n",
              "    <tr>\n",
              "      <th>date</th>\n",
              "      <th></th>\n",
              "      <th></th>\n",
              "      <th></th>\n",
              "      <th></th>\n",
              "      <th></th>\n",
              "      <th></th>\n",
              "      <th></th>\n",
              "      <th></th>\n",
              "      <th></th>\n",
              "      <th></th>\n",
              "      <th></th>\n",
              "      <th></th>\n",
              "      <th></th>\n",
              "      <th></th>\n",
              "      <th></th>\n",
              "      <th></th>\n",
              "      <th></th>\n",
              "      <th></th>\n",
              "      <th></th>\n",
              "      <th></th>\n",
              "      <th></th>\n",
              "      <th></th>\n",
              "      <th></th>\n",
              "      <th></th>\n",
              "      <th></th>\n",
              "      <th></th>\n",
              "      <th></th>\n",
              "      <th></th>\n",
              "      <th></th>\n",
              "      <th></th>\n",
              "      <th></th>\n",
              "      <th></th>\n",
              "      <th></th>\n",
              "      <th></th>\n",
              "    </tr>\n",
              "  </thead>\n",
              "  <tbody>\n",
              "    <tr>\n",
              "      <th>2016-04-24</th>\n",
              "      <td>2</td>\n",
              "      <td>2</td>\n",
              "      <td>0</td>\n",
              "      <td>9</td>\n",
              "      <td>2</td>\n",
              "      <td>30</td>\n",
              "      <td>4</td>\n",
              "      <td>0</td>\n",
              "      <td>1.980469</td>\n",
              "      <td>1.0</td>\n",
              "      <td>1.0</td>\n",
              "      <td>2.0</td>\n",
              "      <td>2.0</td>\n",
              "      <td>10.0</td>\n",
              "      <td>2.0</td>\n",
              "      <td>1.0</td>\n",
              "      <td>1.0</td>\n",
              "      <td>1.0</td>\n",
              "      <td>2.0</td>\n",
              "      <td>6.0</td>\n",
              "      <td>6.0</td>\n",
              "      <td>4.0</td>\n",
              "      <td>1.0</td>\n",
              "      <td>16.0</td>\n",
              "      <td>9.0</td>\n",
              "      <td>1.0</td>\n",
              "      <td>1.0</td>\n",
              "      <td>1.0</td>\n",
              "      <td>1.0</td>\n",
              "      <td>1.0</td>\n",
              "      <td>11.0</td>\n",
              "      <td>24</td>\n",
              "      <td>6</td>\n",
              "      <td>1</td>\n",
              "    </tr>\n",
              "    <tr>\n",
              "      <th>2016-04-24</th>\n",
              "      <td>1</td>\n",
              "      <td>2</td>\n",
              "      <td>0</td>\n",
              "      <td>9</td>\n",
              "      <td>2</td>\n",
              "      <td>30</td>\n",
              "      <td>4</td>\n",
              "      <td>0</td>\n",
              "      <td>1.980469</td>\n",
              "      <td>1.0</td>\n",
              "      <td>1.0</td>\n",
              "      <td>1.0</td>\n",
              "      <td>2.0</td>\n",
              "      <td>2.0</td>\n",
              "      <td>10.0</td>\n",
              "      <td>2.0</td>\n",
              "      <td>1.0</td>\n",
              "      <td>1.0</td>\n",
              "      <td>1.0</td>\n",
              "      <td>2.0</td>\n",
              "      <td>6.0</td>\n",
              "      <td>6.0</td>\n",
              "      <td>4.0</td>\n",
              "      <td>1.0</td>\n",
              "      <td>16.0</td>\n",
              "      <td>9.0</td>\n",
              "      <td>1.0</td>\n",
              "      <td>1.0</td>\n",
              "      <td>1.0</td>\n",
              "      <td>1.0</td>\n",
              "      <td>1.0</td>\n",
              "      <td>24</td>\n",
              "      <td>6</td>\n",
              "      <td>1</td>\n",
              "    </tr>\n",
              "    <tr>\n",
              "      <th>2016-04-24</th>\n",
              "      <td>1</td>\n",
              "      <td>2</td>\n",
              "      <td>0</td>\n",
              "      <td>9</td>\n",
              "      <td>2</td>\n",
              "      <td>30</td>\n",
              "      <td>4</td>\n",
              "      <td>0</td>\n",
              "      <td>3.980469</td>\n",
              "      <td>28.0</td>\n",
              "      <td>1.0</td>\n",
              "      <td>1.0</td>\n",
              "      <td>1.0</td>\n",
              "      <td>2.0</td>\n",
              "      <td>2.0</td>\n",
              "      <td>10.0</td>\n",
              "      <td>2.0</td>\n",
              "      <td>1.0</td>\n",
              "      <td>1.0</td>\n",
              "      <td>1.0</td>\n",
              "      <td>2.0</td>\n",
              "      <td>6.0</td>\n",
              "      <td>6.0</td>\n",
              "      <td>4.0</td>\n",
              "      <td>1.0</td>\n",
              "      <td>16.0</td>\n",
              "      <td>9.0</td>\n",
              "      <td>1.0</td>\n",
              "      <td>1.0</td>\n",
              "      <td>1.0</td>\n",
              "      <td>1.0</td>\n",
              "      <td>24</td>\n",
              "      <td>6</td>\n",
              "      <td>1</td>\n",
              "    </tr>\n",
              "    <tr>\n",
              "      <th>2016-04-24</th>\n",
              "      <td>1</td>\n",
              "      <td>2</td>\n",
              "      <td>0</td>\n",
              "      <td>9</td>\n",
              "      <td>2</td>\n",
              "      <td>30</td>\n",
              "      <td>4</td>\n",
              "      <td>0</td>\n",
              "      <td>2.980469</td>\n",
              "      <td>3.0</td>\n",
              "      <td>28.0</td>\n",
              "      <td>1.0</td>\n",
              "      <td>1.0</td>\n",
              "      <td>1.0</td>\n",
              "      <td>2.0</td>\n",
              "      <td>2.0</td>\n",
              "      <td>10.0</td>\n",
              "      <td>2.0</td>\n",
              "      <td>1.0</td>\n",
              "      <td>1.0</td>\n",
              "      <td>1.0</td>\n",
              "      <td>2.0</td>\n",
              "      <td>6.0</td>\n",
              "      <td>6.0</td>\n",
              "      <td>4.0</td>\n",
              "      <td>1.0</td>\n",
              "      <td>16.0</td>\n",
              "      <td>9.0</td>\n",
              "      <td>1.0</td>\n",
              "      <td>1.0</td>\n",
              "      <td>1.0</td>\n",
              "      <td>24</td>\n",
              "      <td>6</td>\n",
              "      <td>1</td>\n",
              "    </tr>\n",
              "    <tr>\n",
              "      <th>2016-04-24</th>\n",
              "      <td>3</td>\n",
              "      <td>2</td>\n",
              "      <td>0</td>\n",
              "      <td>9</td>\n",
              "      <td>2</td>\n",
              "      <td>30</td>\n",
              "      <td>4</td>\n",
              "      <td>0</td>\n",
              "      <td>1.280273</td>\n",
              "      <td>4.0</td>\n",
              "      <td>3.0</td>\n",
              "      <td>28.0</td>\n",
              "      <td>1.0</td>\n",
              "      <td>1.0</td>\n",
              "      <td>1.0</td>\n",
              "      <td>2.0</td>\n",
              "      <td>2.0</td>\n",
              "      <td>10.0</td>\n",
              "      <td>2.0</td>\n",
              "      <td>1.0</td>\n",
              "      <td>1.0</td>\n",
              "      <td>1.0</td>\n",
              "      <td>2.0</td>\n",
              "      <td>6.0</td>\n",
              "      <td>6.0</td>\n",
              "      <td>4.0</td>\n",
              "      <td>1.0</td>\n",
              "      <td>16.0</td>\n",
              "      <td>9.0</td>\n",
              "      <td>1.0</td>\n",
              "      <td>1.0</td>\n",
              "      <td>24</td>\n",
              "      <td>6</td>\n",
              "      <td>1</td>\n",
              "    </tr>\n",
              "  </tbody>\n",
              "</table>\n",
              "</div>"
            ],
            "text/plain": [
              "            demand  dept_id  cat_id  store_id  state_id  event_name_1  \\\n",
              "date                                                                    \n",
              "2016-04-24       2        2       0         9         2            30   \n",
              "2016-04-24       1        2       0         9         2            30   \n",
              "2016-04-24       1        2       0         9         2            30   \n",
              "2016-04-24       1        2       0         9         2            30   \n",
              "2016-04-24       3        2       0         9         2            30   \n",
              "\n",
              "            event_type_1  snap_WI  sell_price  lag_7  lag_8  lag_9  lag_10  \\\n",
              "date                                                                         \n",
              "2016-04-24             4        0    1.980469    1.0    1.0    2.0     2.0   \n",
              "2016-04-24             4        0    1.980469    1.0    1.0    1.0     2.0   \n",
              "2016-04-24             4        0    3.980469   28.0    1.0    1.0     1.0   \n",
              "2016-04-24             4        0    2.980469    3.0   28.0    1.0     1.0   \n",
              "2016-04-24             4        0    1.280273    4.0    3.0   28.0     1.0   \n",
              "\n",
              "            lag_11  lag_12  lag_13  lag_14  lag_15  lag_16  lag_17  lag_18  \\\n",
              "date                                                                         \n",
              "2016-04-24    10.0     2.0     1.0     1.0     1.0     2.0     6.0     6.0   \n",
              "2016-04-24     2.0    10.0     2.0     1.0     1.0     1.0     2.0     6.0   \n",
              "2016-04-24     2.0     2.0    10.0     2.0     1.0     1.0     1.0     2.0   \n",
              "2016-04-24     1.0     2.0     2.0    10.0     2.0     1.0     1.0     1.0   \n",
              "2016-04-24     1.0     1.0     2.0     2.0    10.0     2.0     1.0     1.0   \n",
              "\n",
              "            lag_19  lag_20  lag_21  lag_22  lag_23  lag_24  lag_25  lag_26  \\\n",
              "date                                                                         \n",
              "2016-04-24     4.0     1.0    16.0     9.0     1.0     1.0     1.0     1.0   \n",
              "2016-04-24     6.0     4.0     1.0    16.0     9.0     1.0     1.0     1.0   \n",
              "2016-04-24     6.0     6.0     4.0     1.0    16.0     9.0     1.0     1.0   \n",
              "2016-04-24     2.0     6.0     6.0     4.0     1.0    16.0     9.0     1.0   \n",
              "2016-04-24     1.0     2.0     6.0     6.0     4.0     1.0    16.0     9.0   \n",
              "\n",
              "            lag_27  lag_28  day  weekday  is_weekend  \n",
              "date                                                  \n",
              "2016-04-24     1.0    11.0   24        6           1  \n",
              "2016-04-24     1.0     1.0   24        6           1  \n",
              "2016-04-24     1.0     1.0   24        6           1  \n",
              "2016-04-24     1.0     1.0   24        6           1  \n",
              "2016-04-24     1.0     1.0   24        6           1  "
            ]
          },
          "metadata": {
            "tags": []
          },
          "execution_count": 54
        }
      ]
    },
    {
      "cell_type": "code",
      "metadata": {
        "id": "zi61fntGOhDW",
        "colab_type": "code",
        "colab": {}
      },
      "source": [
        "from sklearn.preprocessing import StandardScaler\n",
        "scaler = StandardScaler()"
      ],
      "execution_count": null,
      "outputs": []
    },
    {
      "cell_type": "code",
      "metadata": {
        "id": "G20H_4BiOk2i",
        "colab_type": "code",
        "colab": {}
      },
      "source": [
        "X = new_df.dropna().drop(['demand'], axis=1)"
      ],
      "execution_count": null,
      "outputs": []
    },
    {
      "cell_type": "code",
      "metadata": {
        "id": "nHJYw2IHPBxy",
        "colab_type": "code",
        "colab": {}
      },
      "source": [
        "X_train, X_test, y_train, y_test = timeseries_train_test_split(X, y, test_size=0.1)"
      ],
      "execution_count": null,
      "outputs": []
    },
    {
      "cell_type": "code",
      "metadata": {
        "id": "bzYcsrscPC1r",
        "colab_type": "code",
        "colab": {}
      },
      "source": [
        "X_train_scaled = scaler.fit_transform(X_train)"
      ],
      "execution_count": null,
      "outputs": []
    },
    {
      "cell_type": "code",
      "metadata": {
        "id": "bZ1eUncePEGY",
        "colab_type": "code",
        "colab": {}
      },
      "source": [
        "X_test_scaled = scaler.transform(X_test)"
      ],
      "execution_count": null,
      "outputs": []
    },
    {
      "cell_type": "code",
      "metadata": {
        "id": "5kAIRIlBOlS_",
        "colab_type": "code",
        "colab": {}
      },
      "source": [
        "def prepareData(series, lag_start, lag_end, test_size, target_encoding=False):\n",
        "    \"\"\"\n",
        "        series: pd.DataFrame\n",
        "            dataframe with timeseries\n",
        "\n",
        "        lag_start: int\n",
        "            initial step back in time to slice target variable \n",
        "            example - lag_start = 1 means that the model \n",
        "                      will see yesterday's values to predict today\n",
        "\n",
        "        lag_end: int\n",
        "            final step back in time to slice target variable\n",
        "            example - lag_end = 4 means that the model \n",
        "                      will see up to 4 days back in time to predict today\n",
        "\n",
        "        test_size: float\n",
        "            size of the test dataset after train/test split as percentage of dataset\n",
        "\n",
        "        target_encoding: boolean\n",
        "            if True - add target averages to the dataset\n",
        "        \n",
        "    \"\"\"\n",
        "    \n",
        "    # copy of the initial dataset\n",
        "    new_df = df.copy()\n",
        "\n",
        "    # lags of series\n",
        "    for i in range(7, 29):\n",
        "        new_df[\"lag_{}\".format(i)] = new_df['demand'].shift(i)\n",
        "\n",
        "    # datetime features\n",
        "    new_df.index = pd.to_datetime(new_df.index)\n",
        "    new_df[\"day\"] = new_df.index.day\n",
        "    new_df[\"weekday\"] = new_df.index.weekday\n",
        "    new_df['is_weekend'] = new_df.weekday.isin([5,6])*1\n",
        "\n",
        "    if target_encoding:\n",
        "        # calculate averages on train set only\n",
        "        test_index = int(len(new_df.dropna())*(1-test_size))\n",
        "        new_df['weekday_average'] = list(map(code_mean(new_df[:test_index], 'weekday', \"demand\").get, new_df['weekday']))\n",
        "        new_df[\"day_average\"] = list(map(code_mean(new_df[:test_index], 'day', \"demand\").get, new_df['day']))\n",
        "\n",
        "        # frop encoded variables \n",
        "        new_df.drop([\"day\", \"weekday\"], axis=1, inplace=True)\n",
        "    \n",
        "    # train-test split\n",
        "    y = new_df.dropna()['demand']\n",
        "    X = new_df.dropna().drop(['demand'], axis=1)\n",
        "\n",
        "    X_train, X_test, y_train, y_test = timeseries_train_test_split(X, y, test_size=test_size)\n",
        "\n",
        "    return X_train, X_test, y_train, y_test"
      ],
      "execution_count": null,
      "outputs": []
    },
    {
      "cell_type": "code",
      "metadata": {
        "id": "ddqZb8fbO5hD",
        "colab_type": "code",
        "colab": {}
      },
      "source": [
        "X_train, X_test, y_train, y_test =\\\n",
        "prepareData(df, lag_start=1, lag_end=29, test_size=0.1, target_encoding=False)"
      ],
      "execution_count": null,
      "outputs": []
    },
    {
      "cell_type": "code",
      "metadata": {
        "id": "G53OC_RZO-k5",
        "colab_type": "code",
        "colab": {}
      },
      "source": [
        "X_train_scaled = scaler.fit_transform(X_train)"
      ],
      "execution_count": null,
      "outputs": []
    },
    {
      "cell_type": "code",
      "metadata": {
        "id": "OsNLweVdO_mF",
        "colab_type": "code",
        "colab": {}
      },
      "source": [
        "X_test_scaled = scaler.transform(X_test)"
      ],
      "execution_count": null,
      "outputs": []
    },
    {
      "cell_type": "code",
      "metadata": {
        "id": "f4TJIEcIQdXa",
        "colab_type": "code",
        "colab": {}
      },
      "source": [
        ""
      ],
      "execution_count": null,
      "outputs": []
    },
    {
      "cell_type": "markdown",
      "metadata": {
        "id": "oW0QFLvcQeBl",
        "colab_type": "text"
      },
      "source": [
        "# XGBoost"
      ]
    },
    {
      "cell_type": "code",
      "metadata": {
        "id": "oo6qB-3HQfxg",
        "colab_type": "code",
        "colab": {}
      },
      "source": [
        "from xgboost import XGBRegressor \n",
        "xgb = XGBRegressor()"
      ],
      "execution_count": null,
      "outputs": []
    },
    {
      "cell_type": "code",
      "metadata": {
        "id": "xK_b7MezQkWP",
        "colab_type": "code",
        "colab": {
          "base_uri": "https://localhost:8080/",
          "height": 51
        },
        "outputId": "33523426-a5e3-4fb7-c654-f7c0d457956a"
      },
      "source": [
        "model_xgb = xgb.fit(X_train_scaled, y_train)"
      ],
      "execution_count": null,
      "outputs": [
        {
          "output_type": "stream",
          "text": [
            "[14:13:44] WARNING: /workspace/src/objective/regression_obj.cu:152: reg:linear is now deprecated in favor of reg:squarederror.\n",
            "[14:13:44] WARNING: /workspace/src/learner.cc:686: Tree method is automatically selected to be 'approx' for faster speed. To use old behavior (exact greedy algorithm on single machine), set tree_method to 'exact'.\n"
          ],
          "name": "stdout"
        }
      ]
    },
    {
      "cell_type": "code",
      "metadata": {
        "id": "IFaz44kEdl1q",
        "colab_type": "code",
        "colab": {
          "base_uri": "https://localhost:8080/",
          "height": 136
        },
        "outputId": "a4c6e95b-67cd-4b04-d50e-dd4f300a250d"
      },
      "source": [
        "model_xgb"
      ],
      "execution_count": null,
      "outputs": [
        {
          "output_type": "execute_result",
          "data": {
            "text/plain": [
              "XGBRegressor(base_score=0.5, booster='gbtree', colsample_bylevel=1,\n",
              "             colsample_bynode=1, colsample_bytree=1, gamma=0,\n",
              "             importance_type='gain', learning_rate=0.1, max_delta_step=0,\n",
              "             max_depth=3, min_child_weight=1, missing=None, n_estimators=100,\n",
              "             n_jobs=1, nthread=None, objective='reg:linear', random_state=0,\n",
              "             reg_alpha=0, reg_lambda=1, scale_pos_weight=1, seed=None,\n",
              "             silent=None, subsample=1, verbosity=1)"
            ]
          },
          "metadata": {
            "tags": []
          },
          "execution_count": 30
        }
      ]
    },
    {
      "cell_type": "code",
      "metadata": {
        "id": "UMh3L4JI-kqW",
        "colab_type": "code",
        "colab": {
          "base_uri": "https://localhost:8080/",
          "height": 621
        },
        "outputId": "8d9b9551-5cd3-4958-98e4-0118504e23ff"
      },
      "source": [
        "from xgboost import plot_importance\n",
        "from matplotlib import pyplot\n",
        "\n",
        "# plot feature importance\n",
        "ax = plot_importance(model_xgb)\n",
        "fig = ax.figure\n",
        "fig.set_size_inches(8, 10)\n",
        "plt.show()\n"
      ],
      "execution_count": null,
      "outputs": [
        {
          "output_type": "display_data",
          "data": {
            "image/png": "[encoded data removed]",
            "text/plain": [
              "<Figure size 576x720 with 1 Axes>"
            ]
          },
          "metadata": {
            "tags": [],
            "needs_background": "light"
          }
        }
      ]
    },
    {
      "cell_type": "code",
      "metadata": {
        "id": "p79wHUCXje26",
        "colab_type": "code",
        "colab": {}
      },
      "source": [
        "def ModelResults(model, X_train, X_test,y_test):\n",
        "    \"\"\"\n",
        "        Plots modelled vs fact values, prediction intervals and anomalies\n",
        "    \n",
        "    \"\"\"\n",
        "    \n",
        "    prediction = model.predict(X_test)\n",
        "   \n",
        "    error = rmse(y_test, prediction)\n",
        "    return error "
      ],
      "execution_count": null,
      "outputs": []
    },
    {
      "cell_type": "code",
      "metadata": {
        "id": "Q_l5HrxXlpMN",
        "colab_type": "code",
        "colab": {
          "base_uri": "https://localhost:8080/",
          "height": 34
        },
        "outputId": "34dcd2f4-c6af-4902-fe8f-a00b64517e1f"
      },
      "source": [
        "ModelResults(xgb, X_train=X_train_scaled, X_test=X_test_scaled)"
      ],
      "execution_count": null,
      "outputs": [
        {
          "output_type": "execute_result",
          "data": {
            "text/plain": [
              "4.572642"
            ]
          },
          "metadata": {
            "tags": []
          },
          "execution_count": 84
        }
      ]
    },
    {
      "cell_type": "code",
      "metadata": {
        "id": "FHRjBR48RYNY",
        "colab_type": "code",
        "colab": {
          "base_uri": "https://localhost:8080/",
          "height": 248
        },
        "outputId": "aff72764-9542-4f1b-a261-3e8afddc7800"
      },
      "source": [
        "def plotModelResults(model, X_train=X_train, X_test=X_test, plot_intervals=False, plot_anomalies=False):\n",
        "    \"\"\"\n",
        "        Plots modelled vs fact values, prediction intervals and anomalies\n",
        "    \n",
        "    \"\"\"\n",
        "    \n",
        "    prediction = model.predict(X_test)\n",
        "    \n",
        "    plt.figure(figsize=(15, 7))\n",
        "    plt.plot(y_test.values, label=\"actual\", linewidth=2.0)\n",
        "    plt.plot(prediction, \"g\", label=\"prediction\", linewidth=2.0)\n",
        "    \n",
        "    if plot_intervals:\n",
        "        cv = cross_val_score(model, X_train, y_train, \n",
        "                                    cv=tscv, \n",
        "                                    scoring=\"neg_mean_absolute_error\")\n",
        "        mae = cv.mean() * (-1)\n",
        "        deviation = cv.std()\n",
        "        \n",
        "        scale = 1.96\n",
        "        lower = prediction - (mae + scale * deviation)\n",
        "        upper = prediction + (mae + scale * deviation)\n",
        "        \n",
        "        plt.plot(lower, \"r--\", label=\"upper bond / lower bond\", alpha=0.5)\n",
        "        plt.plot(upper, \"r--\", alpha=0.5)\n",
        "        \n",
        "        if plot_anomalies:\n",
        "            anomalies = np.array([np.NaN]*len(y_test))\n",
        "            anomalies[y_test<lower] = y_test[y_test<lower]\n",
        "            anomalies[y_test>upper] = y_test[y_test>upper]\n",
        "            plt.plot(anomalies, \"o\", markersize=10, label = \"Anomalies\")\n",
        "    \n",
        "    error = rmse(y_test, prediction)\n",
        "    return error\n",
        "  \n",
        "  "
      ],
      "execution_count": null,
      "outputs": [
        {
          "output_type": "error",
          "ename": "NameError",
          "evalue": "ignored",
          "traceback": [
            "\u001b[0;31m---------------------------------------------------------------------------\u001b[0m",
            "\u001b[0;31mNameError\u001b[0m                                 Traceback (most recent call last)",
            "\u001b[0;32m<ipython-input-13-b86d3dbb37b0>\u001b[0m in \u001b[0;36m<module>\u001b[0;34m()\u001b[0m\n\u001b[0;32m----> 1\u001b[0;31m \u001b[0;32mdef\u001b[0m \u001b[0mplotModelResults\u001b[0m\u001b[0;34m(\u001b[0m\u001b[0mmodel\u001b[0m\u001b[0;34m,\u001b[0m \u001b[0mX_train\u001b[0m\u001b[0;34m=\u001b[0m\u001b[0mX_train\u001b[0m\u001b[0;34m,\u001b[0m \u001b[0mX_test\u001b[0m\u001b[0;34m=\u001b[0m\u001b[0mX_test\u001b[0m\u001b[0;34m,\u001b[0m \u001b[0mplot_intervals\u001b[0m\u001b[0;34m=\u001b[0m\u001b[0;32mFalse\u001b[0m\u001b[0;34m,\u001b[0m \u001b[0mplot_anomalies\u001b[0m\u001b[0;34m=\u001b[0m\u001b[0;32mFalse\u001b[0m\u001b[0;34m)\u001b[0m\u001b[0;34m:\u001b[0m\u001b[0;34m\u001b[0m\u001b[0;34m\u001b[0m\u001b[0m\n\u001b[0m\u001b[1;32m      2\u001b[0m     \"\"\"\n\u001b[1;32m      3\u001b[0m         \u001b[0mPlots\u001b[0m \u001b[0mmodelled\u001b[0m \u001b[0mvs\u001b[0m \u001b[0mfact\u001b[0m \u001b[0mvalues\u001b[0m\u001b[0;34m,\u001b[0m \u001b[0mprediction\u001b[0m \u001b[0mintervals\u001b[0m \u001b[0;32mand\u001b[0m \u001b[0manomalies\u001b[0m\u001b[0;34m\u001b[0m\u001b[0;34m\u001b[0m\u001b[0m\n\u001b[1;32m      4\u001b[0m \u001b[0;34m\u001b[0m\u001b[0m\n\u001b[1;32m      5\u001b[0m     \"\"\"\n",
            "\u001b[0;31mNameError\u001b[0m: name 'X_train' is not defined"
          ]
        }
      ]
    },
    {
      "cell_type": "code",
      "metadata": {
        "id": "pSw-UMRSRcBM",
        "colab_type": "code",
        "colab": {
          "base_uri": "https://localhost:8080/",
          "height": 531
        },
        "outputId": "2f462290-e9cb-48f7-cc9b-8ce21b35b739"
      },
      "source": [
        "plotModelResults(xgb, \n",
        "                 X_train=X_train_scaled, \n",
        "                 X_test=X_test_scaled, \n",
        "                 plot_intervals=True, \n",
        "                 plot_anomalies=True)"
      ],
      "execution_count": null,
      "outputs": [
        {
          "output_type": "stream",
          "text": [
            "[03:43:52] WARNING: /workspace/src/objective/regression_obj.cu:152: reg:linear is now deprecated in favor of reg:squarederror.\n",
            "[03:45:03] WARNING: /workspace/src/objective/regression_obj.cu:152: reg:linear is now deprecated in favor of reg:squarederror.\n",
            "[03:47:35] WARNING: /workspace/src/objective/regression_obj.cu:152: reg:linear is now deprecated in favor of reg:squarederror.\n",
            "[03:51:49] WARNING: /workspace/src/objective/regression_obj.cu:152: reg:linear is now deprecated in favor of reg:squarederror.\n",
            "[03:58:01] WARNING: /workspace/src/objective/regression_obj.cu:152: reg:linear is now deprecated in favor of reg:squarederror.\n"
          ],
          "name": "stdout"
        },
        {
          "output_type": "execute_result",
          "data": {
            "text/plain": [
              "4.572642"
            ]
          },
          "metadata": {
            "tags": []
          },
          "execution_count": 77
        },
        {
          "output_type": "display_data",
          "data": {
            "image/png": "[encoded data removed]",
            "text/plain": [
              "<Figure size 1080x504 with 1 Axes>"
            ]
          },
          "metadata": {
            "tags": [],
            "needs_background": "light"
          }
        }
      ]
    },
    {
      "cell_type": "markdown",
      "metadata": {
        "id": "CXhdJrrhTi8h",
        "colab_type": "text"
      },
      "source": [
        "# Light GBM"
      ]
    },
    {
      "cell_type": "code",
      "metadata": {
        "id": "1nPeAgUvT70-",
        "colab_type": "code",
        "colab": {}
      },
      "source": [
        "from lightgbm import LGBMRegressor \n",
        "\n",
        "lgb = LGBMRegressor()"
      ],
      "execution_count": null,
      "outputs": []
    },
    {
      "cell_type": "code",
      "metadata": {
        "id": "07MrX0sGWRJb",
        "colab_type": "code",
        "colab": {
          "base_uri": "https://localhost:8080/",
          "height": 51
        },
        "outputId": "6610405f-b3af-41a9-a9d2-62ef76f103f3"
      },
      "source": [
        "%%time\n",
        "\n",
        "model_lgb = lgb.fit(X_train_scaled, y_train)"
      ],
      "execution_count": null,
      "outputs": [
        {
          "output_type": "stream",
          "text": [
            "CPU times: user 1min 21s, sys: 170 ms, total: 1min 21s\n",
            "Wall time: 1min 21s\n"
          ],
          "name": "stdout"
        }
      ]
    },
    {
      "cell_type": "code",
      "metadata": {
        "id": "1JpT08qklBHq",
        "colab_type": "code",
        "colab": {
          "base_uri": "https://localhost:8080/",
          "height": 34
        },
        "outputId": "7f479030-056f-4a7f-e571-f9d8a3f2e697"
      },
      "source": [
        "ModelResults(lgb, X_train=X_train_scaled, X_test=X_test_scaled)"
      ],
      "execution_count": null,
      "outputs": [
        {
          "output_type": "execute_result",
          "data": {
            "text/plain": [
              "4.358830636466478"
            ]
          },
          "metadata": {
            "tags": []
          },
          "execution_count": 83
        }
      ]
    },
    {
      "cell_type": "markdown",
      "metadata": {
        "id": "RC5l6ntomhaR",
        "colab_type": "text"
      },
      "source": [
        "# Forecasting on different products"
      ]
    },
    {
      "cell_type": "code",
      "metadata": {
        "id": "f2p0eCSwmuOF",
        "colab_type": "code",
        "colab": {}
      },
      "source": [
        "df_1 = data [(data ['date'] <= '2016-04-24') & (data ['id'] == 'FOODS_2_360_WI_2_validation') & (data ['demand']> 0) ]\n",
        "df_1 = df_1 [['date', 'demand', 'dept_id', 'cat_id', 'store_id', 'state_id', 'event_name_1', 'event_type_1', 'snap_WI', 'sell_price']]\n",
        "df_1 = df_1.set_index ('date')\n",
        "\n",
        "df_2 = data [(data ['date'] <= '2016-04-24') & (data ['id'] == 'FOODS_2_197_CA_3_validation') & (data ['demand']> 0) ]\n",
        "df_2 = df_2 [['date', 'demand', 'dept_id', 'cat_id', 'store_id', 'state_id', 'event_name_1', 'event_type_1', 'snap_WI', 'sell_price']]\n",
        "df_2 = df_2.set_index ('date')\n",
        "\n",
        "df_3 = data [(data ['date'] <= '2016-04-24') & (data ['id'] == 'FOODS_2_360_TX_3_validation') & (data ['demand']> 0) ]\n",
        "df_3 = df_3 [['date', 'demand', 'dept_id', 'cat_id', 'store_id', 'state_id', 'event_name_1', 'event_type_1', 'snap_WI', 'sell_price']]\n",
        "df_3 = df_3.set_index ('date')\n"
      ],
      "execution_count": null,
      "outputs": []
    },
    {
      "cell_type": "code",
      "metadata": {
        "id": "MYU8KXlOrnvp",
        "colab_type": "code",
        "colab": {}
      },
      "source": [
        "from sklearn.preprocessing import StandardScaler\n",
        "scaler = StandardScaler()"
      ],
      "execution_count": null,
      "outputs": []
    },
    {
      "cell_type": "code",
      "metadata": {
        "id": "hNASIFuGrzaD",
        "colab_type": "code",
        "colab": {}
      },
      "source": [
        "def code_mean(data, cat_feature, real_feature):\n",
        "    \"\"\"\n",
        "    Returns a dictionary where keys are unique categories of the cat_feature,\n",
        "    and values are means over real_feature\n",
        "    \"\"\"\n",
        "    return dict(data.groupby(cat_feature)[real_feature].mean())"
      ],
      "execution_count": null,
      "outputs": []
    },
    {
      "cell_type": "code",
      "metadata": {
        "id": "jb8f49Q9rz9P",
        "colab_type": "code",
        "colab": {}
      },
      "source": [
        "def prepareData(series, lag_start, lag_end, test_size, target_encoding=False):\n",
        "    \"\"\"\n",
        "        series: pd.DataFrame\n",
        "            dataframe with timeseries\n",
        "\n",
        "        lag_start: int\n",
        "            initial step back in time to slice target variable \n",
        "            example - lag_start = 1 means that the model \n",
        "                      will see yesterday's values to predict today\n",
        "\n",
        "        lag_end: int\n",
        "            final step back in time to slice target variable\n",
        "            example - lag_end = 4 means that the model \n",
        "                      will see up to 4 days back in time to predict today\n",
        "\n",
        "        test_size: float\n",
        "            size of the test dataset after train/test split as percentage of dataset\n",
        "\n",
        "        target_encoding: boolean\n",
        "            if True - add target averages to the dataset\n",
        "        \n",
        "    \"\"\"\n",
        "    \n",
        "    # copy of the initial dataset\n",
        "    new_df = series.copy()\n",
        "\n",
        "    # lags of series\n",
        "    for i in range(7, 29):\n",
        "        new_df[\"lag_{}\".format(i)] = new_df['demand'].shift(i)\n",
        "\n",
        "    # datetime features\n",
        "    new_df.index = pd.to_datetime(new_df.index)\n",
        "    new_df[\"day\"] = new_df.index.day\n",
        "    new_df[\"weekday\"] = new_df.index.weekday\n",
        "    new_df['is_weekend'] = new_df.weekday.isin([5,6])*1\n",
        "\n",
        "    if target_encoding:\n",
        "        # calculate averages on train set only\n",
        "        test_index = int(len(new_df.dropna())*(1-test_size))\n",
        "        new_df['weekday_average'] = list(map(code_mean(new_df[:test_index], 'weekday', \"demand\").get, new_df['weekday']))\n",
        "        new_df[\"day_average\"] = list(map(code_mean(new_df[:test_index], 'day', \"demand\").get, new_df['day']))\n",
        "\n",
        "        # frop encoded variables \n",
        "        new_df.drop([\"day\", \"weekday\"], axis=1, inplace=True)\n",
        "    \n",
        "    # train-test split\n",
        "    y = new_df.dropna()['demand']\n",
        "    X = new_df.dropna().drop(['demand'], axis=1)\n",
        "\n",
        "    X_train, X_test, y_train, y_test = timeseries_train_test_split(X, y, test_size=test_size)\n",
        "\n",
        "    return X_train, X_test, y_train, y_test"
      ],
      "execution_count": null,
      "outputs": []
    },
    {
      "cell_type": "code",
      "metadata": {
        "id": "CPVjaodvp7uI",
        "colab_type": "code",
        "colab": {}
      },
      "source": [
        "def plotModelResults(model, X_train, X_test,y_train, y_test, plot_intervals=False, plot_anomalies=False):\n",
        "    \"\"\"\n",
        "        Plots modelled vs fact values, prediction intervals and anomalies\n",
        "    \n",
        "    \"\"\"\n",
        "    \n",
        "    prediction = model.predict(X_test)\n",
        "    \n",
        "    plt.figure(figsize=(15, 7))\n",
        "    plt.plot(y_test.values, label=\"actual\", linewidth=2.0)\n",
        "    plt.plot(prediction, \"g\", label=\"prediction\", linewidth=2.0)\n",
        "    \n",
        "    if plot_intervals:\n",
        "        cv = cross_val_score(model, X_train, y_train, \n",
        "                                    cv=tscv, \n",
        "                                    scoring=\"neg_mean_absolute_error\")\n",
        "        mae = cv.mean() * (-1)\n",
        "        deviation = cv.std()\n",
        "        \n",
        "        scale = 1.96\n",
        "        lower = prediction - (mae + scale * deviation)\n",
        "        upper = prediction + (mae + scale * deviation)\n",
        "        \n",
        "        plt.plot(lower, \"r--\", label=\"upper bond / lower bond\", alpha=0.5)\n",
        "        plt.plot(upper, \"r--\", alpha=0.5)\n",
        "        \n",
        "        if plot_anomalies:\n",
        "            anomalies = np.array([np.NaN]*len(y_test))\n",
        "            anomalies[y_test<lower] = y_test[y_test<lower]\n",
        "            anomalies[y_test>upper] = y_test[y_test>upper]\n",
        "            plt.plot(anomalies, \"o\", markersize=10, label = \"Anomalies\")\n",
        "    \n",
        "    error = rmse(y_test, prediction)\n",
        "    plt.title(\"RMSE: {0:.2f}\".format(error))\n",
        "    plt.legend(loc=\"best\")\n",
        "    plt.tight_layout()\n",
        "    plt.grid(True);\n",
        "    \n",
        "def plotCoefficients(model):\n",
        "    \"\"\"\n",
        "        Plots sorted coefficient values of the model\n",
        "    \"\"\"\n",
        "    \n",
        "    coefs = pd.DataFrame(model.coef_, X_train.columns)\n",
        "    coefs.columns = [\"coef\"]\n",
        "    coefs[\"abs\"] = coefs.coef.apply(np.abs)\n",
        "    coefs = coefs.sort_values(by=\"abs\", ascending=False).drop([\"abs\"], axis=1)\n",
        "    \n",
        "    plt.figure(figsize=(15, 7))\n",
        "    coefs.coef.plot(kind='bar')\n",
        "    plt.grid(True, axis='y')\n",
        "    plt.hlines(y=0, xmin=0, xmax=len(coefs), linestyles='dashed');"
      ],
      "execution_count": null,
      "outputs": []
    },
    {
      "cell_type": "code",
      "metadata": {
        "id": "L4bfCXN7p0L7",
        "colab_type": "code",
        "colab": {}
      },
      "source": [
        "X_train_1, X_test_1, y_train_1, y_test_1 =prepareData(df_1, lag_start=1, lag_end=29, test_size=0.1, target_encoding=False)\n",
        "\n",
        "X_train_scaled_1 = scaler.fit_transform(X_train_1)\n",
        "X_test_scaled_1 = scaler.transform(X_test_1)"
      ],
      "execution_count": null,
      "outputs": []
    },
    {
      "cell_type": "code",
      "metadata": {
        "id": "peM7_SQCsAKa",
        "colab_type": "code",
        "colab": {}
      },
      "source": [
        "X_train_2, X_test_2, y_train_2, y_test_2 =prepareData(df_2, lag_start=1, lag_end=29, test_size=0.1, target_encoding=False)\n",
        "\n",
        "X_train_scaled_2 = scaler.fit_transform(X_train_2)\n",
        "X_test_scaled_2 = scaler.transform(X_test_2)"
      ],
      "execution_count": null,
      "outputs": []
    },
    {
      "cell_type": "code",
      "metadata": {
        "id": "WZfK0Ss0sA1N",
        "colab_type": "code",
        "colab": {}
      },
      "source": [
        "X_train_3, X_test_3, y_train_3, y_test_3 =prepareData(df_3, lag_start=1, lag_end=29, test_size=0.1, target_encoding=False)\n",
        "\n",
        "X_train_scaled_3 = scaler.fit_transform(X_train_3)\n",
        "X_test_scaled_3 = scaler.transform(X_test_3)"
      ],
      "execution_count": null,
      "outputs": []
    },
    {
      "cell_type": "markdown",
      "metadata": {
        "id": "rNBafaNiv3oJ",
        "colab_type": "text"
      },
      "source": [
        "## XGB"
      ]
    },
    {
      "cell_type": "code",
      "metadata": {
        "id": "Z06VvXMevo9J",
        "colab_type": "code",
        "colab": {
          "base_uri": "https://localhost:8080/",
          "height": 153
        },
        "outputId": "14bb9a65-d28f-40a2-9a8f-a0e2508c6daa"
      },
      "source": [
        "xgb.fit(X_train_scaled_1, y_train_1)"
      ],
      "execution_count": null,
      "outputs": [
        {
          "output_type": "stream",
          "text": [
            "[08:30:24] WARNING: /workspace/src/objective/regression_obj.cu:152: reg:linear is now deprecated in favor of reg:squarederror.\n"
          ],
          "name": "stdout"
        },
        {
          "output_type": "execute_result",
          "data": {
            "text/plain": [
              "XGBRegressor(base_score=0.5, booster='gbtree', colsample_bylevel=1,\n",
              "             colsample_bynode=1, colsample_bytree=1, gamma=0,\n",
              "             importance_type='gain', learning_rate=0.1, max_delta_step=0,\n",
              "             max_depth=3, min_child_weight=1, missing=None, n_estimators=100,\n",
              "             n_jobs=1, nthread=None, objective='reg:linear', random_state=0,\n",
              "             reg_alpha=0, reg_lambda=1, scale_pos_weight=1, seed=None,\n",
              "             silent=None, subsample=1, verbosity=1)"
            ]
          },
          "metadata": {
            "tags": []
          },
          "execution_count": 84
        }
      ]
    },
    {
      "cell_type": "code",
      "metadata": {
        "id": "mQeXbyy8wQoS",
        "colab_type": "code",
        "colab": {
          "base_uri": "https://localhost:8080/",
          "height": 598
        },
        "outputId": "a37a3abc-3d6b-49c3-9d43-9033af8c044f"
      },
      "source": [
        "plotModelResults(xgb, X_train=X_train_scaled_1, X_test=X_test_scaled_1,y_train= y_train_1, y_test = y_test_1, plot_intervals=True, plot_anomalies=True)"
      ],
      "execution_count": null,
      "outputs": [
        {
          "output_type": "stream",
          "text": [
            "[08:30:26] WARNING: /workspace/src/objective/regression_obj.cu:152: reg:linear is now deprecated in favor of reg:squarederror.\n",
            "[08:30:26] WARNING: /workspace/src/objective/regression_obj.cu:152: reg:linear is now deprecated in favor of reg:squarederror.\n",
            "[08:30:26] WARNING: /workspace/src/objective/regression_obj.cu:152: reg:linear is now deprecated in favor of reg:squarederror.\n",
            "[08:30:26] WARNING: /workspace/src/objective/regression_obj.cu:152: reg:linear is now deprecated in favor of reg:squarederror.\n",
            "[08:30:26] WARNING: /workspace/src/objective/regression_obj.cu:152: reg:linear is now deprecated in favor of reg:squarederror.\n"
          ],
          "name": "stdout"
        },
        {
          "output_type": "display_data",
          "data": {
            "image/png": "[encoded data removed]",
            "text/plain": [
              "<Figure size 1080x504 with 1 Axes>"
            ]
          },
          "metadata": {
            "tags": [],
            "needs_background": "light"
          }
        }
      ]
    },
    {
      "cell_type": "code",
      "metadata": {
        "id": "82SwDtP3wR95",
        "colab_type": "code",
        "colab": {
          "base_uri": "https://localhost:8080/",
          "height": 34
        },
        "outputId": "096c4ce9-92ea-43cf-86f0-c4bddd99281e"
      },
      "source": [
        "ModelResults(xgb, X_train=X_train_scaled_1, X_test=X_test_scaled_1, y_test= y_test_1)"
      ],
      "execution_count": null,
      "outputs": [
        {
          "output_type": "execute_result",
          "data": {
            "text/plain": [
              "34.122368"
            ]
          },
          "metadata": {
            "tags": []
          },
          "execution_count": 86
        }
      ]
    },
    {
      "cell_type": "code",
      "metadata": {
        "id": "RLqOGJcZv6Um",
        "colab_type": "code",
        "colab": {
          "base_uri": "https://localhost:8080/",
          "height": 153
        },
        "outputId": "0ed8d0a8-a513-4c3d-9dbd-0b1dffcee40e"
      },
      "source": [
        "xgb.fit(X_train_scaled_2, y_train_2)"
      ],
      "execution_count": null,
      "outputs": [
        {
          "output_type": "stream",
          "text": [
            "[08:30:44] WARNING: /workspace/src/objective/regression_obj.cu:152: reg:linear is now deprecated in favor of reg:squarederror.\n"
          ],
          "name": "stdout"
        },
        {
          "output_type": "execute_result",
          "data": {
            "text/plain": [
              "XGBRegressor(base_score=0.5, booster='gbtree', colsample_bylevel=1,\n",
              "             colsample_bynode=1, colsample_bytree=1, gamma=0,\n",
              "             importance_type='gain', learning_rate=0.1, max_delta_step=0,\n",
              "             max_depth=3, min_child_weight=1, missing=None, n_estimators=100,\n",
              "             n_jobs=1, nthread=None, objective='reg:linear', random_state=0,\n",
              "             reg_alpha=0, reg_lambda=1, scale_pos_weight=1, seed=None,\n",
              "             silent=None, subsample=1, verbosity=1)"
            ]
          },
          "metadata": {
            "tags": []
          },
          "execution_count": 87
        }
      ]
    },
    {
      "cell_type": "code",
      "metadata": {
        "id": "HAGX-0f2wWxN",
        "colab_type": "code",
        "colab": {
          "base_uri": "https://localhost:8080/",
          "height": 598
        },
        "outputId": "a9995413-66e0-4d5f-c5eb-638d3e39604b"
      },
      "source": [
        "plotModelResults(xgb, X_train=X_train_scaled_2, X_test=X_test_scaled_2,y_train= y_train_2, y_test = y_test_2, plot_intervals=True, plot_anomalies=True)"
      ],
      "execution_count": null,
      "outputs": [
        {
          "output_type": "stream",
          "text": [
            "[08:30:47] WARNING: /workspace/src/objective/regression_obj.cu:152: reg:linear is now deprecated in favor of reg:squarederror.\n",
            "[08:30:47] WARNING: /workspace/src/objective/regression_obj.cu:152: reg:linear is now deprecated in favor of reg:squarederror.\n",
            "[08:30:47] WARNING: /workspace/src/objective/regression_obj.cu:152: reg:linear is now deprecated in favor of reg:squarederror.\n",
            "[08:30:47] WARNING: /workspace/src/objective/regression_obj.cu:152: reg:linear is now deprecated in favor of reg:squarederror.\n",
            "[08:30:47] WARNING: /workspace/src/objective/regression_obj.cu:152: reg:linear is now deprecated in favor of reg:squarederror.\n"
          ],
          "name": "stdout"
        },
        {
          "output_type": "display_data",
          "data": {
            "image/png": "[encoded data removed]",
            "text/plain": [
              "<Figure size 1080x504 with 1 Axes>"
            ]
          },
          "metadata": {
            "tags": [],
            "needs_background": "light"
          }
        }
      ]
    },
    {
      "cell_type": "code",
      "metadata": {
        "id": "3TJ50djwwc0N",
        "colab_type": "code",
        "colab": {
          "base_uri": "https://localhost:8080/",
          "height": 34
        },
        "outputId": "a738d3c3-ead4-41b0-a286-dfadbdd9a3b5"
      },
      "source": [
        "ModelResults(xgb, X_train=X_train_scaled_2, X_test=X_test_scaled_2, y_test= y_test_2)"
      ],
      "execution_count": null,
      "outputs": [
        {
          "output_type": "execute_result",
          "data": {
            "text/plain": [
              "4.946176"
            ]
          },
          "metadata": {
            "tags": []
          },
          "execution_count": 89
        }
      ]
    },
    {
      "cell_type": "code",
      "metadata": {
        "id": "oqs5iK8av7ig",
        "colab_type": "code",
        "colab": {
          "base_uri": "https://localhost:8080/",
          "height": 153
        },
        "outputId": "8dc97b46-4d59-4bee-834e-d4bf7c4675e7"
      },
      "source": [
        "xgb.fit(X_train_scaled_3, y_train_3)"
      ],
      "execution_count": null,
      "outputs": [
        {
          "output_type": "stream",
          "text": [
            "[08:31:21] WARNING: /workspace/src/objective/regression_obj.cu:152: reg:linear is now deprecated in favor of reg:squarederror.\n"
          ],
          "name": "stdout"
        },
        {
          "output_type": "execute_result",
          "data": {
            "text/plain": [
              "XGBRegressor(base_score=0.5, booster='gbtree', colsample_bylevel=1,\n",
              "             colsample_bynode=1, colsample_bytree=1, gamma=0,\n",
              "             importance_type='gain', learning_rate=0.1, max_delta_step=0,\n",
              "             max_depth=3, min_child_weight=1, missing=None, n_estimators=100,\n",
              "             n_jobs=1, nthread=None, objective='reg:linear', random_state=0,\n",
              "             reg_alpha=0, reg_lambda=1, scale_pos_weight=1, seed=None,\n",
              "             silent=None, subsample=1, verbosity=1)"
            ]
          },
          "metadata": {
            "tags": []
          },
          "execution_count": 93
        }
      ]
    },
    {
      "cell_type": "code",
      "metadata": {
        "id": "VVIK7JE0wdoq",
        "colab_type": "code",
        "colab": {
          "base_uri": "https://localhost:8080/",
          "height": 598
        },
        "outputId": "e6209f44-e063-4b0c-bb4f-acfb2e40721e"
      },
      "source": [
        "plotModelResults(xgb, X_train=X_train_scaled_3, X_test=X_test_scaled_3,y_train= y_train_3, y_test = y_test_3, plot_intervals=True, plot_anomalies=True)"
      ],
      "execution_count": null,
      "outputs": [
        {
          "output_type": "stream",
          "text": [
            "[08:31:24] WARNING: /workspace/src/objective/regression_obj.cu:152: reg:linear is now deprecated in favor of reg:squarederror.\n",
            "[08:31:24] WARNING: /workspace/src/objective/regression_obj.cu:152: reg:linear is now deprecated in favor of reg:squarederror.\n",
            "[08:31:24] WARNING: /workspace/src/objective/regression_obj.cu:152: reg:linear is now deprecated in favor of reg:squarederror.\n",
            "[08:31:24] WARNING: /workspace/src/objective/regression_obj.cu:152: reg:linear is now deprecated in favor of reg:squarederror.\n",
            "[08:31:24] WARNING: /workspace/src/objective/regression_obj.cu:152: reg:linear is now deprecated in favor of reg:squarederror.\n"
          ],
          "name": "stdout"
        },
        {
          "output_type": "display_data",
          "data": {
            "image/png": "[encoded data removed]",
            "text/plain": [
              "<Figure size 1080x504 with 1 Axes>"
            ]
          },
          "metadata": {
            "tags": [],
            "needs_background": "light"
          }
        }
      ]
    },
    {
      "cell_type": "code",
      "metadata": {
        "id": "P4AaCA8jwdwm",
        "colab_type": "code",
        "colab": {
          "base_uri": "https://localhost:8080/",
          "height": 34
        },
        "outputId": "bdf345bf-c89f-4c40-f3d1-f49acc56b9c9"
      },
      "source": [
        "ModelResults(xgb, X_train=X_train_scaled_3, X_test=X_test_scaled_3, y_test= y_test_3)"
      ],
      "execution_count": null,
      "outputs": [
        {
          "output_type": "execute_result",
          "data": {
            "text/plain": [
              "10.740171"
            ]
          },
          "metadata": {
            "tags": []
          },
          "execution_count": 96
        }
      ]
    },
    {
      "cell_type": "code",
      "metadata": {
        "id": "pXEL93eZcaHX",
        "colab_type": "code",
        "colab": {
          "base_uri": "https://localhost:8080/",
          "height": 119
        },
        "outputId": "0f16daef-c941-4fb1-d63a-d32a209b431f"
      },
      "source": [
        "lgb.fit(X_train_scaled_1, y_train_1)"
      ],
      "execution_count": null,
      "outputs": [
        {
          "output_type": "execute_result",
          "data": {
            "text/plain": [
              "LGBMRegressor(boosting_type='gbdt', class_weight=None, colsample_bytree=1.0,\n",
              "              importance_type='split', learning_rate=0.1, max_depth=-1,\n",
              "              min_child_samples=20, min_child_weight=0.001, min_split_gain=0.0,\n",
              "              n_estimators=100, n_jobs=-1, num_leaves=31, objective=None,\n",
              "              random_state=None, reg_alpha=0.0, reg_lambda=0.0, silent=True,\n",
              "              subsample=1.0, subsample_for_bin=200000, subsample_freq=0)"
            ]
          },
          "metadata": {
            "tags": []
          },
          "execution_count": 97
        }
      ]
    },
    {
      "cell_type": "code",
      "metadata": {
        "id": "e0hyw9Y_chgb",
        "colab_type": "code",
        "colab": {
          "base_uri": "https://localhost:8080/",
          "height": 34
        },
        "outputId": "4bcd5f6c-50ae-461e-96e1-5c275a588089"
      },
      "source": [
        "ModelResults(lgb, X_train=X_train_scaled_1, X_test=X_test_scaled_1, y_test= y_test_1)"
      ],
      "execution_count": null,
      "outputs": [
        {
          "output_type": "execute_result",
          "data": {
            "text/plain": [
              "38.96978611456272"
            ]
          },
          "metadata": {
            "tags": []
          },
          "execution_count": 98
        }
      ]
    },
    {
      "cell_type": "code",
      "metadata": {
        "id": "LmY7JvcMcppR",
        "colab_type": "code",
        "colab": {
          "base_uri": "https://localhost:8080/",
          "height": 119
        },
        "outputId": "2695dfd0-e6ce-4f47-9f65-f81ebed2c509"
      },
      "source": [
        "lgb.fit(X_train_scaled_2, y_train_2)"
      ],
      "execution_count": null,
      "outputs": [
        {
          "output_type": "execute_result",
          "data": {
            "text/plain": [
              "LGBMRegressor(boosting_type='gbdt', class_weight=None, colsample_bytree=1.0,\n",
              "              importance_type='split', learning_rate=0.1, max_depth=-1,\n",
              "              min_child_samples=20, min_child_weight=0.001, min_split_gain=0.0,\n",
              "              n_estimators=100, n_jobs=-1, num_leaves=31, objective=None,\n",
              "              random_state=None, reg_alpha=0.0, reg_lambda=0.0, silent=True,\n",
              "              subsample=1.0, subsample_for_bin=200000, subsample_freq=0)"
            ]
          },
          "metadata": {
            "tags": []
          },
          "execution_count": 99
        }
      ]
    },
    {
      "cell_type": "code",
      "metadata": {
        "id": "bJS4GANNcsnm",
        "colab_type": "code",
        "colab": {
          "base_uri": "https://localhost:8080/",
          "height": 34
        },
        "outputId": "cf07651a-95ef-4bb8-ff49-b98bc051bbf5"
      },
      "source": [
        "ModelResults(lgb, X_train=X_train_scaled_2, X_test=X_test_scaled_2, y_test= y_test_2)"
      ],
      "execution_count": null,
      "outputs": [
        {
          "output_type": "execute_result",
          "data": {
            "text/plain": [
              "5.645999428540504"
            ]
          },
          "metadata": {
            "tags": []
          },
          "execution_count": 100
        }
      ]
    },
    {
      "cell_type": "code",
      "metadata": {
        "id": "6-6hl1Fec33E",
        "colab_type": "code",
        "colab": {
          "base_uri": "https://localhost:8080/",
          "height": 119
        },
        "outputId": "a74349f9-e2f1-47c9-85c9-9092842fd869"
      },
      "source": [
        "lgb.fit(X_train_scaled_3, y_train_3)"
      ],
      "execution_count": null,
      "outputs": [
        {
          "output_type": "execute_result",
          "data": {
            "text/plain": [
              "LGBMRegressor(boosting_type='gbdt', class_weight=None, colsample_bytree=1.0,\n",
              "              importance_type='split', learning_rate=0.1, max_depth=-1,\n",
              "              min_child_samples=20, min_child_weight=0.001, min_split_gain=0.0,\n",
              "              n_estimators=100, n_jobs=-1, num_leaves=31, objective=None,\n",
              "              random_state=None, reg_alpha=0.0, reg_lambda=0.0, silent=True,\n",
              "              subsample=1.0, subsample_for_bin=200000, subsample_freq=0)"
            ]
          },
          "metadata": {
            "tags": []
          },
          "execution_count": 101
        }
      ]
    },
    {
      "cell_type": "code",
      "metadata": {
        "id": "mWRaPVa0c7dZ",
        "colab_type": "code",
        "colab": {
          "base_uri": "https://localhost:8080/",
          "height": 34
        },
        "outputId": "6bf23315-8265-4d64-e0be-1bc754ef102b"
      },
      "source": [
        "ModelResults(lgb, X_train=X_train_scaled_3, X_test=X_test_scaled_3, y_test= y_test_3)"
      ],
      "execution_count": null,
      "outputs": [
        {
          "output_type": "execute_result",
          "data": {
            "text/plain": [
              "11.323302682476124"
            ]
          },
          "metadata": {
            "tags": []
          },
          "execution_count": 102
        }
      ]
    }
  ]
}